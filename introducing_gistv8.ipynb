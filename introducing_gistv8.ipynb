{
 "cells": [
  {
   "cell_type": "markdown",
   "id": "0c00a3fd-5ba7-49c6-9dfb-722640f3b7b2",
   "metadata": {},
   "source": [
    "# Introduction"
   ]
  },
  {
   "cell_type": "markdown",
   "id": "94a2f44a-84bc-4ec1-8da5-8b728873ed12",
   "metadata": {},
   "source": [
    "This notebook introduces GIST-V8, my eighth attempt at a GIST sampler with a stopping criterion based on the virial of the Hamiltonian with biased progressive sampling.  The virial is defined as \n",
    "\n",
    "$$2 \\cdot \\rho^T \\cdot \\theta$$\n",
    "\n",
    "where $\\rho$ is the momentum vector and $\\theta$ is the position vector.  The details of the theory of this formula are lost to me since last summer, but Nawaf knows. The virial bounces about zero along a leapfrog trajectory.  I've settled on using three sign switches in the virial as a reasonable stopping criterion; justification below.\n",
    "\n",
    "This stopping criterion is similar to using sign switches of $\\rho^T \\cdot \\nabla U(\\theta)$ as a stopping criterion, as Sherlock et al did in The Apogee to Apogee Path Sampler. In the apogee paper, the authors produced some theory that helps determine a good guess for the number of sign switches."
   ]
  },
  {
   "cell_type": "markdown",
   "id": "8d37ec97-b715-4f5d-87ef-ae85266c4bae",
   "metadata": {},
   "source": [
    "Below, I present just a few simulations of three different samplers. The class in the style of Bob's adaptive-hmc/gist_paper's classes is in the Appendix below; links lead to code in github repository.\n",
    "\n",
    "* [GIST-U](https://github.com/roualdes/mcmcexperiments/blob/main/gist_uturn2.py)\n",
    "* [GIST-V](https://github.com/roualdes/mcmcexperiments/blob/main/gist_virial4.py)\n",
    "* [GIST-V8](https://github.com/roualdes/mcmcexperiments/blob/main/gist_virial8.py)\n",
    "\n",
    "The simulations are meant to give a better understanding of the sampler, not to be a complete empirical evaluation/comparison.\n",
    "\n",
    "**todo**:\n",
    "* do more simulations; I don't have time, nor the compute, for more simulations right now.\n",
    "\n",
    "GIST-U is a u-turn based GIST sampler, where the proposed state is sampled during the formation of the forward trajectory using a Multinoulli distribution over the Hamiltonians at each leapfrog point.  \n",
    "\n",
    "GIST-V uses 3 sign switches of the virial as the stopping criterion and also samples during the formation of the forward trajectory using a Multinoulli distribution.  \n",
    "\n",
    "GIST-V8 uses an adaptation of 3 sign switches of the virial and samples during the formation of the forward pass, but also samples in a manner analogous to Stan's biased progressive sampling; see [Michael Betancourt's A Conceptual Introduction to\n",
    "Hamiltonian Monte Carlo, Appendix A.3.2](https://arxiv.org/abs/1701.02434).  During the formation of the forward trajectory, states are Multinoulli sampled within segments of `segment_length` $ > 1$ and then segments themselves are sampled, such that segments further from the initial point $\\theta_0$ are more likely.  Stan defines these segments as doublings in the number of leapfrog steps.  But as far as I can tell, the math works just the same no matter how we define these segments, so long as more than one state lives within each segment.\n",
    "\n",
    "So technically, GIST-V8 uses as a stopping criterion, the end of the next segment after 3 sign switches.  This has some benefits in terms of acceptance rates and whether or not we need to calculate a backward trajectory at all.  Sometimes segments end at exactly 3 sign switches.\n",
    "\n",
    "**todo**:\n",
    "* understand theory of virial better\n",
    "* reproduce Betancourt's math"
   ]
  },
  {
   "cell_type": "markdown",
   "id": "7a5e8395-525d-49df-81f4-95608e1e7652",
   "metadata": {},
   "source": [
    "# Simulations"
   ]
  },
  {
   "cell_type": "code",
   "execution_count": 29,
   "id": "9c39c885-6fc6-46ff-9bec-d69b46e28e19",
   "metadata": {},
   "outputs": [],
   "source": [
    "from pathlib import Path\n",
    "from bsmodel import BSModel\n",
    "from gist_uturn2 import GISTU2  # GIST-U\n",
    "from gist_virial4 import GISTV4 # GIST-V\n",
    "from gist_virial10 import GISTV10 # GIST-V8\n",
    "\n",
    "import bridgestan as bs\n",
    "import cmdstanpy as csp\n",
    "import matplotlib.pyplot as plt\n",
    "import numpy as np\n",
    "import tools as tls\n",
    "\n",
    "import json\n",
    "import pprint\n",
    "import yaml\n",
    "import time\n",
    "import sys"
   ]
  },
  {
   "cell_type": "code",
   "execution_count": 30,
   "id": "f67154a8-7126-4a20-b92d-02a2190e0a2f",
   "metadata": {},
   "outputs": [
    {
     "name": "stdout",
     "output_type": "stream",
     "text": [
      "{'print': True,\n",
      " 'digits': 4,\n",
      " 'iterations': 1000,\n",
      " 'warmup': 1000,\n",
      " 'replications': 20,\n",
      " 'seed': None,\n",
      " 'stepsize': 0.24,\n",
      " 'switch_limit': 3,\n",
      " 'segment_length': 2,\n",
      " 'db': 'experiments.db',\n",
      " 'bs_path': '~/bridgestan',\n",
      " 'model_path': 'stan',\n",
      " 'model_name': 'normal',\n",
      " 'init': {'warmup': 10000, 'iterations': 20000}}\n"
     ]
    }
   ],
   "source": [
    "with open(\"config.yaml\") as f:\n",
    "    cfg = yaml.safe_load(f)\n",
    "\n",
    "pprint.pp(cfg)\n",
    "bs.set_bridgestan_path(Path(cfg[\"bs_path\"]).expanduser())\n",
    "stan_file, data_file = tls.get_stan_files(cfg)\n",
    "\n",
    "bs_model = BSModel(stan_file = stan_file, data_file = data_file)\n",
    "tls.stop_griping()"
   ]
  },
  {
   "cell_type": "markdown",
   "id": "8fa26002-5fbf-4c0b-adf6-d0a03fe1b7a8",
   "metadata": {},
   "source": [
    "`model_name` here defines a 10-dimensional standard Normal distribution."
   ]
  },
  {
   "cell_type": "code",
   "execution_count": 31,
   "id": "de35afa4-5d8a-4c1f-b9de-6c8adda3e650",
   "metadata": {},
   "outputs": [],
   "source": [
    "gistu = GISTU2(bs_model, cfg[\"stepsize\"], cfg[\"seed\"])\n",
    "gistv = GISTV4(bs_model, cfg[\"stepsize\"], cfg[\"seed\"], switch_limit = cfg[\"switch_limit\"])\n",
    "gistv8 = GISTV10(bs_model, cfg[\"stepsize\"], cfg[\"seed\"], switch_limit = cfg[\"switch_limit\"], segment_length = cfg[\"segment_length\"])\n",
    "csp_model = csp.CmdStanModel(stan_file = stan_file)\n",
    "stan = csp_model.sample(data = data_file,\n",
    "                           chains = 1,\n",
    "                           metric = \"unit_e\",\n",
    "                           step_size = cfg[\"stepsize\"],\n",
    "                           iter_sampling = cfg[\"iterations\"] + cfg[\"warmup\"],\n",
    "                           iter_warmup = cfg[\"warmup\"],\n",
    "                           adapt_engaged = False,\n",
    "                           show_progress = False,\n",
    "                           show_console = False)"
   ]
  },
  {
   "cell_type": "code",
   "execution_count": 32,
   "id": "c3d572de-4b2c-4609-98ee-73daca484575",
   "metadata": {},
   "outputs": [],
   "source": [
    "du = gistu.sample_constrained(cfg[\"warmup\"] + cfg[\"iterations\"])\n",
    "dv = gistv.sample_constrained(cfg[\"warmup\"] + cfg[\"iterations\"])\n",
    "dv8 = gistv8.sample_constrained(cfg[\"warmup\"] + cfg[\"iterations\"])"
   ]
  },
  {
   "cell_type": "code",
   "execution_count": 33,
   "id": "ff381670-0ffa-423a-9a29-98303da43929",
   "metadata": {},
   "outputs": [],
   "source": [
    "thetas_u = du[\"thetas\"][cfg[\"warmup\"]:, :]\n",
    "thetas_v = dv[\"thetas\"][cfg[\"warmup\"]:, :]\n",
    "thetas_v8 = dv8[\"thetas\"][cfg[\"warmup\"]:, :]\n",
    "thetas_stan = stan.draws(concat_chains = True)[:, 7:]"
   ]
  },
  {
   "cell_type": "markdown",
   "id": "c33e4dc1-7e32-4021-afbe-1c065bf0ddd9",
   "metadata": {},
   "source": [
    "## Means"
   ]
  },
  {
   "cell_type": "code",
   "execution_count": 34,
   "id": "f2615670-5905-4f8d-a8b6-731b6deba2b3",
   "metadata": {},
   "outputs": [
    {
     "data": {
      "text/plain": [
       "{'GIST-U': array([ 0.02,  0.02,  0.09,  0.03,  0.  ,  0.01, -0.05, -0.06, -0.02,\n",
       "         0.08]),\n",
       " 'GIST-V': array([-0.01,  0.05, -0.05,  0.  ,  0.03, -0.01, -0.03,  0.02, -0.05,\n",
       "        -0.02]),\n",
       " 'GIST-V8': array([-0.02,  0.02,  0.01,  0.02,  0.04, -0.07,  0.01, -0.04,  0.01,\n",
       "         0.  ]),\n",
       " 'Stan': array([ 0.01, -0.03, -0.01, -0.02, -0.03,  0.01,  0.01, -0.05, -0.01,\n",
       "        -0.01])}"
      ]
     },
     "execution_count": 34,
     "metadata": {},
     "output_type": "execute_result"
    }
   ],
   "source": [
    "{\"GIST-U\": np.round(np.mean(thetas_u, axis = 0), 2),\n",
    " \"GIST-V\": np.round(np.mean(thetas_v, axis = 0), 2),\n",
    " \"GIST-V8\": np.round(np.mean(thetas_v8, axis = 0), 2),\n",
    " \"Stan\": np.round(np.mean(thetas_stan, axis = 0), 2)}"
   ]
  },
  {
   "cell_type": "markdown",
   "id": "4bc84223-2ca4-4868-9610-b8603ebe30b1",
   "metadata": {},
   "source": [
    "## Standard Deviations"
   ]
  },
  {
   "cell_type": "code",
   "execution_count": 35,
   "id": "4c14266f-9ed6-4302-825c-5d0973c23774",
   "metadata": {},
   "outputs": [
    {
     "data": {
      "text/plain": [
       "{'GIST-U': array([0.99, 0.97, 1.01, 1.05, 0.98, 1.04, 1.02, 1.03, 0.98, 0.95]),\n",
       " 'GIST-V': array([0.96, 1.02, 1.02, 0.98, 1.01, 1.03, 0.97, 1.01, 0.99, 1.  ]),\n",
       " 'GIST-V8': array([1.02, 1.  , 1.04, 0.97, 1.  , 1.  , 1.08, 1.09, 0.96, 1.05]),\n",
       " 'Stan': array([0.99, 1.02, 0.99, 1.06, 1.  , 1.01, 1.  , 1.01, 0.97, 0.97])}"
      ]
     },
     "execution_count": 35,
     "metadata": {},
     "output_type": "execute_result"
    }
   ],
   "source": [
    "{\"GIST-U\": np.round(np.std(thetas_u, axis = 0), 2),\n",
    " \"GIST-V\": np.round(np.std(thetas_v, axis = 0), 2),\n",
    " \"GIST-V8\": np.round(np.std(thetas_v8, axis = 0), 2),\n",
    " \"Stan\": np.round(np.std(thetas_stan, axis = 0), 2)}"
   ]
  },
  {
   "cell_type": "markdown",
   "id": "b9061094-2c61-4eba-8297-20ad26d13322",
   "metadata": {},
   "source": [
    "## Distribution of Trajectory Lengths per iteration"
   ]
  },
  {
   "cell_type": "markdown",
   "id": "831c1323-6ee1-4581-aef0-bbb4cb804204",
   "metadata": {},
   "source": [
    "The following plot depicts the distribution of the number of leapfrog steps in a forward trajectory per iteration for the three samplers.  The virial stopping criterion with 3 sign switches produces trajectories of roughly the same length as the GIST-U's u-turn stopping criterion.  I can't exactly explain why GIST-V8 is more concentrated than GIST-V's.\n",
    "\n",
    "**todo**:\n",
    "* evaluate apgoee stopping criterion \n",
    "* make a pais plot instead of histogram; maybe distributions look similar but virial produces longer trajectories when u-turn produces short and vice versa"
   ]
  },
  {
   "cell_type": "code",
   "execution_count": 36,
   "id": "733f980c-e4a4-452f-8fc4-20caf07fe34a",
   "metadata": {},
   "outputs": [
    {
     "data": {
      "image/png": "[encoded data removed]",
      "text/plain": [
       "<Figure size 640x480 with 1 Axes>"
      ]
     },
     "metadata": {},
     "output_type": "display_data"
    }
   ],
   "source": [
    "plt.hist(du[\"forward_steps\"], color = \"green\", label = \"GIST-U\", histtype = \"step\", density = True)\n",
    "plt.hist(dv[\"forward_steps\"], color = \"blue\", label = \"GIST-V\", histtype = \"step\", density = True)\n",
    "plt.hist(dv8[\"forward_steps\"], color = \"orange\", label = \"GIST-V8\", histtype = \"step\", density = True)\n",
    "plt.legend()\n",
    "plt.ylabel(\"density\")\n",
    "plt.xlabel(\"leapfrog steps per iteration\");"
   ]
  },
  {
   "cell_type": "markdown",
   "id": "91e841e0-55d4-439d-b31c-7f985806c6df",
   "metadata": {},
   "source": [
    "## Mean squared jump distance"
   ]
  },
  {
   "cell_type": "markdown",
   "id": "112a6ad4-f2a4-4588-8790-6a0537c873bc",
   "metadata": {},
   "source": [
    "From what I've seen, MSJD for GIST-V is usually bigger than GIST-U, and GIST-V8 is somewhere between, if not equal to one or the other, GIST-V and Stan.  GIST-U suffers from rejections upon sub-uturns.  I believe most of the difference here is due to GIST-U's rejections upon sub-u-turns. The virial stopping criterion has no such sub-stopping-criterion issues, by nature of the stopping criterion. "
   ]
  },
  {
   "cell_type": "code",
   "execution_count": 37,
   "id": "667486cb-5758-4419-b1ce-78ec7c83e798",
   "metadata": {},
   "outputs": [
    {
     "data": {
      "text/plain": [
       "{'GIST-U': 16.9097, 'GIST-V': 21.7819, 'GIST-V8': 24.5866, 'Stan': 24.7844}"
      ]
     },
     "execution_count": 37,
     "metadata": {},
     "output_type": "execute_result"
    }
   ],
   "source": [
    "{\"GIST-U\": tls.mean_sq_jumps(thetas_u), \n",
    " \"GIST-V\": tls.mean_sq_jumps(thetas_v), \n",
    " \"GIST-V8\": tls.mean_sq_jumps(thetas_v8), \n",
    " \"Stan\": tls.mean_sq_jumps(thetas_stan)}"
   ]
  },
  {
   "cell_type": "markdown",
   "id": "597f245b-a039-4e75-bee4-8f9e73a769e5",
   "metadata": {},
   "source": [
    "## Acceptance Rate"
   ]
  },
  {
   "cell_type": "markdown",
   "id": "04704343-1dae-4764-aedd-d3b0c9aad67d",
   "metadata": {},
   "source": [
    "Because there are no such sub-stopping-criterion issues, the acceptance rates for the virial based stopping criterion is higher than GIST-U.  Notably, the biases progressive sampling of GIST-V8 does not reduce the acceptance rate, despite pushing the proposed state towards the end of the trajectory.  Although we can implement biased progressive sampling within GIST-U, because of sub-uturns, we would just end up with more rejections, similar to what we saw when we used Binomial sampling instead of Uniform sampling amongst the leapfrog states in GIST-U."
   ]
  },
  {
   "cell_type": "code",
   "execution_count": 38,
   "id": "eb8945d1-7fe9-4104-8e7b-5f2087b08a61",
   "metadata": {},
   "outputs": [
    {
     "data": {
      "text/plain": [
       "{'GIST-U': 0.93, 'GIST-V': 0.96, 'GIST-V8': 0.97, 'Stan': 1}"
      ]
     },
     "execution_count": 38,
     "metadata": {},
     "output_type": "execute_result"
    }
   ],
   "source": [
    "{\"GIST-U\": np.round(du[\"acceptance_rate\"], 2), \n",
    " \"GIST-V\": np.round(dv[\"acceptance_rate\"], 2), \n",
    " \"GIST-V8\": np.round(dv8[\"acceptance_rate\"], 2),\n",
    " \"Stan\": 1}"
   ]
  },
  {
   "cell_type": "markdown",
   "id": "9f2d6ef8-1a1c-4367-8690-e66a94535d6a",
   "metadata": {},
   "source": [
    "## Leapfrog Steps"
   ]
  },
  {
   "cell_type": "markdown",
   "id": "7def2741-05c4-4dd8-ba37-1d5c36c4df80",
   "metadata": {},
   "source": [
    "Because there are no sub-stopping-criterion issues for the GIST-V samplers, we can eliminate double visits to points in phase space.  Thus, there are fewer leapfrog steps necessary for the GIST-V samplers, compared to the GIST-U sampler."
   ]
  },
  {
   "cell_type": "code",
   "execution_count": 39,
   "id": "ef528556-66cc-4a3a-bc80-c4b455e962cb",
   "metadata": {},
   "outputs": [
    {
     "data": {
      "text/plain": [
       "{'GIST-U': 54448, 'GIST-V': 51216, 'GIST-V8': 50825, 'Stan': 29688.0}"
      ]
     },
     "execution_count": 39,
     "metadata": {},
     "output_type": "execute_result"
    }
   ],
   "source": [
    "{\"GIST-U\": du[\"steps\"], \n",
    " \"GIST-V\": dv[\"steps\"],\n",
    " \"GIST-V8\": dv8[\"steps\"],\n",
    " \"Stan\": np.sum(stan.draws(concat_chains = True)[:, 4])}"
   ]
  },
  {
   "cell_type": "markdown",
   "id": "2170e4c0-89f7-4425-9a10-61b784d62004",
   "metadata": {},
   "source": [
    "# Appendix\n",
    "## GIST-U Code"
   ]
  },
  {
   "cell_type": "code",
   "execution_count": 40,
   "id": "91a798f4-c351-411c-bf4d-b1fb7b08394b",
   "metadata": {},
   "outputs": [],
   "source": [
    "import numpy as np\n",
    "\n",
    "import hmc\n",
    "import traceback\n",
    "\n",
    "class GISTU2(hmc.HMCBase):\n",
    "    \"\"\"GIST UTURN\n",
    "\n",
    "    Online Multinoulli sampling during forward trajectory.\n",
    "\n",
    "    \"\"\"\n",
    "    def __init__(self, model, stepsize, theta = None, seed = None, **kwargs):\n",
    "\n",
    "        super().__init__(model, stepsize, seed = seed)\n",
    "        self.sampler_name = \"GIST-UTURN-2\"\n",
    "\n",
    "        if theta is not None:\n",
    "            self.theta = theta\n",
    "\n",
    "        self.steps = 0\n",
    "        self.forward_steps = []\n",
    "        self.mean_proposal_steps = 0.0\n",
    "\n",
    "        self.acceptance_probability = 0.0\n",
    "        self.divergences = 0\n",
    "        self.draws = 0\n",
    "\n",
    "    def store_forward_steps(self, steps):\n",
    "        self.forward_steps.append(steps)\n",
    "\n",
    "    def store_proposal_steps(self, steps):\n",
    "        d = steps - self.mean_proposal_steps\n",
    "        self.mean_proposal_steps += d / self.draws\n",
    "\n",
    "    def store_acceptance_probability(self, accepted):\n",
    "        d = accepted - self.acceptance_probability\n",
    "        self.acceptance_probability += d / self.draws\n",
    "\n",
    "    def trajectory(self, theta, rho, forward = False):\n",
    "        theta0 = theta\n",
    "        theta_prop = theta\n",
    "        rho_prop = rho\n",
    "\n",
    "        steps = 0\n",
    "        steps_prop = 0\n",
    "\n",
    "        uturn = False\n",
    "        last_distance = 0\n",
    "\n",
    "        H0 = self.log_joint(theta, rho)\n",
    "        lsw = 0.0 # H0 - H0\n",
    "\n",
    "        while True:\n",
    "            steps += 1\n",
    "\n",
    "            # leapfrog step\n",
    "            theta, rho = self.leapfrog_step(theta, rho)\n",
    "            H = self.log_joint(theta, rho)\n",
    "            delta = H - H0\n",
    "            if np.abs(-delta) > 50.0:\n",
    "                self.divergences += 1\n",
    "                break\n",
    "\n",
    "            distance = np.sum((theta - theta0) ** 2)\n",
    "            if distance <= last_distance:\n",
    "                uturn = True\n",
    "            last_distance = distance\n",
    "\n",
    "            # track total energy\n",
    "            lsw = np.logaddexp(lsw, delta)\n",
    "\n",
    "            # multinoulli: sample within trajectory\n",
    "            log_alpha = delta - lsw\n",
    "            if np.log(self.rng.uniform()) < np.minimum(0.0, log_alpha):\n",
    "                theta_prop = theta\n",
    "                rho_prop = rho\n",
    "                steps_prop = steps\n",
    "\n",
    "            if uturn:\n",
    "                break\n",
    "\n",
    "        self.steps += steps\n",
    "        if forward:\n",
    "            self.store_forward_steps(steps)\n",
    "        return theta_prop, rho_prop, steps_prop, steps, lsw\n",
    "\n",
    "    def draw(self):\n",
    "        self.draws += 1\n",
    "        try:\n",
    "            theta = self.theta\n",
    "            rho = self.rng.normal(size = self.D)\n",
    "\n",
    "            theta_star, rho_star, F, _, FW = self.trajectory(theta, rho, forward = True)\n",
    "\n",
    "            _, _, _, B, BW = self.trajectory(theta_star, -rho_star)\n",
    "\n",
    "            # account for sub-uturns\n",
    "            if not(1 <= F and F <= B):\n",
    "                return self.theta\n",
    "\n",
    "            # H_star - H_0 + (H_0 - BW) - (H_star - FW)\n",
    "            log_alpha = FW - BW\n",
    "\n",
    "            accepted = 0\n",
    "            if np.log(self.rng.uniform()) < np.minimum(0.0, log_alpha):\n",
    "                accepted = 1\n",
    "                self.theta = theta_star\n",
    "                self.store_proposal_steps(F)\n",
    "\n",
    "            # only for comparisons, otherwise unnecessary\n",
    "            self.store_acceptance_probability(accepted)\n",
    "        except Exception as e:\n",
    "            traceback.print_exc()\n",
    "            pass\n",
    "        return self.theta\n"
   ]
  },
  {
   "cell_type": "markdown",
   "id": "bcb4fc8e-0ecb-463f-ac4e-3a8b8deaddbe",
   "metadata": {},
   "source": [
    "## GIST-V Code"
   ]
  },
  {
   "cell_type": "code",
   "execution_count": 41,
   "id": "dc832a22-c0ad-429d-9720-93b245b87f5b",
   "metadata": {},
   "outputs": [],
   "source": [
    "import numpy as np\n",
    "\n",
    "import hmc\n",
    "import traceback\n",
    "\n",
    "class GISTV4(hmc.HMCBase):\n",
    "    \"\"\"Virial GIST\n",
    "\n",
    "    Propose from foward trajectory and balance with backward\n",
    "    trajectory.  switch_limit can be greater than 1. Online\n",
    "    Multinoulli sampling during foward trajectory.\n",
    "\n",
    "    \"\"\"\n",
    "    def __init__(self, model, stepsize,\n",
    "                 theta = None, seed = None,\n",
    "                 switch_limit = 1, **kwargs):\n",
    "\n",
    "        super().__init__(model, stepsize, seed = seed)\n",
    "        self.sampler_name = f\"GIST-V4_{switch_limit}\"\n",
    "\n",
    "        if theta is not None:\n",
    "            self.theta = theta\n",
    "\n",
    "        self.switch_limit = switch_limit\n",
    "        self.switches_passed = 0\n",
    "\n",
    "        self.steps = 0\n",
    "        self.proposal_steps = 0\n",
    "        self.forward_steps = []\n",
    "        self.mean_proposal_steps = 0.0\n",
    "\n",
    "        self.acceptance_probability = 0.0\n",
    "        self.divergences = 0\n",
    "        self.draws = 0\n",
    "\n",
    "    def prepare_forward_pass(self):\n",
    "        self.switches_passed = 0\n",
    "        self.proposal_steps = 0\n",
    "\n",
    "    def store_forward_steps(self, steps):\n",
    "        self.forward_steps.append(steps)\n",
    "\n",
    "    def store_proposal_steps(self, steps):\n",
    "        d = steps - self.mean_proposal_steps\n",
    "        self.mean_proposal_steps += d / self.draws\n",
    "\n",
    "    def store_acceptance_probability(self, accepted):\n",
    "        d = accepted - self.acceptance_probability\n",
    "        self.acceptance_probability += d / self.draws\n",
    "\n",
    "    def virial(self, theta, rho):\n",
    "        return 2 * rho.dot(theta)\n",
    "\n",
    "    def logsubexp(self, a, b):\n",
    "        if a > b:\n",
    "            return a + np.log1p(-np.exp(b - a))\n",
    "        elif a < b:\n",
    "            return b + np.log1p(-np.exp(a - b))\n",
    "        else:\n",
    "            return np.inf\n",
    "\n",
    "    def trajectory(self, theta, rho, lsw = 0.0,\n",
    "                   forward = True):\n",
    "        theta_prop = theta\n",
    "\n",
    "        v = self.virial(theta, rho)\n",
    "        sv = np.sign(v)\n",
    "        H0 = self.log_joint(theta, rho)\n",
    "\n",
    "        steps = 0\n",
    "        steps_prop = 0\n",
    "\n",
    "        lsw_prop = -np.inf\n",
    "\n",
    "        switches = 0\n",
    "        switches_prop = 0\n",
    "\n",
    "        while True:\n",
    "            steps += 1\n",
    "\n",
    "            theta, rho = self.leapfrog_step(theta, rho)\n",
    "            H = self.log_joint(theta, rho)\n",
    "            delta = H - H0\n",
    "            if np.abs(-delta) > 50.0:\n",
    "                self.divergences += 1\n",
    "                break\n",
    "\n",
    "            # check virial sign switch\n",
    "            v = self.virial(theta, rho)\n",
    "            if sv * np.sign(v) < 0:\n",
    "                switches += 1\n",
    "                sv = np.sign(v)\n",
    "\n",
    "            # track total energy\n",
    "            lsw = np.logaddexp(lsw, delta)\n",
    "\n",
    "            # multinoulli: sample within trajectory\n",
    "            log_alpha = delta - lsw\n",
    "            if np.log(self.rng.uniform()) < np.minimum(0.0, log_alpha):\n",
    "                theta_prop = theta\n",
    "                lsw_prop = lsw\n",
    "                steps_prop = steps\n",
    "                switches_prop = switches\n",
    "\n",
    "            if switches >= self.switch_limit - self.switches_passed:\n",
    "                break\n",
    "\n",
    "        self.steps += steps\n",
    "        if forward:\n",
    "            self.switches_passed = switches_prop\n",
    "            self.store_forward_steps(steps)\n",
    "        return theta_prop, lsw_prop, steps_prop, lsw\n",
    "\n",
    "    def draw(self):\n",
    "        self.draws += 1\n",
    "        try:\n",
    "            theta = self.theta\n",
    "            rho = self.rng.normal(size = self.D)\n",
    "\n",
    "            # forward pass\n",
    "            self.prepare_forward_pass()\n",
    "            theta_star, lsw_star, steps_star, FW = self.trajectory(theta, rho, forward = True)\n",
    "\n",
    "            # backward pass\n",
    "            _, _, _, BW = self.trajectory(theta, -rho, lsw = lsw_star)\n",
    "            BW = self.logsubexp(BW, 0.0) # don't double count theta0\n",
    "\n",
    "            # H_star - H_0 + (H_0 - BW) - (H_star - FW)\n",
    "            log_alpha = FW - BW\n",
    "\n",
    "            accepted = 0\n",
    "            if np.log(self.rng.uniform()) < np.minimum(0.0, log_alpha):\n",
    "                accepted = 1\n",
    "                self.theta = theta_star\n",
    "                self.store_proposal_steps(steps_star)\n",
    "\n",
    "            # only for comparisons, otherwise unnecessary\n",
    "            self.store_acceptance_probability(accepted)\n",
    "        except Exception as e:\n",
    "            traceback.print_exc()\n",
    "            pass\n",
    "        return self.theta\n"
   ]
  },
  {
   "cell_type": "markdown",
   "id": "4405ffd2-f6d5-4d50-985f-0ee37db959f8",
   "metadata": {},
   "source": [
    "## GIST-V8"
   ]
  },
  {
   "cell_type": "code",
   "execution_count": 42,
   "id": "3520ff4d-dbfb-45dd-8f70-234fc368b2c5",
   "metadata": {},
   "outputs": [],
   "source": [
    "import numpy as np\n",
    "\n",
    "import hmc\n",
    "import traceback\n",
    "\n",
    "class GISTV8(hmc.HMCBase):\n",
    "    \"\"\"Virial GIST\n",
    "\n",
    "    Propose from foward trajectory and balance with backward\n",
    "    trajectory.  switch_limit can be greater than 1. Proposals are\n",
    "    biased towards the end of the trajectory in segments consisting of\n",
    "    segment_length steps.  Biasing analogous to Stan.\n",
    "    \"\"\"\n",
    "    def __init__(self, model, stepsize, theta = None, seed = None,\n",
    "                 switch_limit = 1, segment_length = 2, **kwargs):\n",
    "\n",
    "        super().__init__(model, stepsize, seed = seed)\n",
    "        self.sampler_name = f\"GIST-V8_{switch_limit}\"\n",
    "\n",
    "        if theta is not None:\n",
    "            self.theta = theta\n",
    "\n",
    "        self.segment_length = segment_length\n",
    "        self.switch_limit = switch_limit\n",
    "        self.switches_passed = 0\n",
    "\n",
    "        self.steps = 0\n",
    "        self.forward_steps = []\n",
    "        self.mean_proposal_steps = 0.0\n",
    "\n",
    "        self.acceptance_probability = 0.0\n",
    "        self.divergences = 0\n",
    "        self.draws = 0\n",
    "\n",
    "    def prepare_forward_pass(self):\n",
    "        self.switches_passed = 0\n",
    "        self.proposal_steps = 0\n",
    "\n",
    "    def store_forward_steps(self, steps):\n",
    "        self.forward_steps.append(steps)\n",
    "\n",
    "    def store_proposal_steps(self, steps):\n",
    "        d = steps - self.mean_proposal_steps\n",
    "        self.mean_proposal_steps += d / self.draws\n",
    "\n",
    "    def store_acceptance_probability(self, accepted):\n",
    "        d = accepted - self.acceptance_probability\n",
    "        self.acceptance_probability += d / self.draws\n",
    "\n",
    "    def virial(self, theta, rho):\n",
    "        return 2 * rho.dot(theta)\n",
    "\n",
    "    def logsubexp(self, a, b):\n",
    "        if a > b:\n",
    "            return a + np.log1p(-np.exp(b - a))\n",
    "        elif a < b:\n",
    "            return b + np.log1p(-np.exp(a - b))\n",
    "        else:\n",
    "            return np.inf\n",
    "\n",
    "    def trajectory(self, theta, rho, lsw = 0.0,\n",
    "                   forward = False, switch_discount = 0):\n",
    "        theta_star = theta\n",
    "        theta_prop = theta\n",
    "        rho_star = rho\n",
    "        rho_prop = rho\n",
    "\n",
    "        v = self.virial(theta, rho)\n",
    "        sv = np.sign(v)\n",
    "        H0 = self.log_joint(theta, rho)\n",
    "\n",
    "        lsw_star = -np.inf\n",
    "        lsw_prop = -np.inf\n",
    "        lsw_segment = -np.inf\n",
    "        end_segment = False\n",
    "\n",
    "        switches = 0\n",
    "        switches_star = 0\n",
    "        switches_prop = 0\n",
    "\n",
    "        steps = 0\n",
    "        steps_star = 0\n",
    "        steps_prop = 0\n",
    "\n",
    "        while True:\n",
    "            steps += 1\n",
    "            end_segment = steps % self.segment_length == 0\n",
    "\n",
    "            theta, rho = self.leapfrog_step(theta, rho)\n",
    "            H = self.log_joint(theta, rho)\n",
    "            delta = H - H0\n",
    "            if np.abs(-delta) > 50.0:\n",
    "                self.divergences += 1\n",
    "                break\n",
    "\n",
    "            # check virial sign switch\n",
    "            v = self.virial(theta, rho)\n",
    "            if sv * np.sign(v) < 0:\n",
    "                switches += 1\n",
    "                sv = np.sign(v)\n",
    "\n",
    "            lsw_denom = lsw\n",
    "            # track total energy\n",
    "            lsw = np.logaddexp(lsw, delta)\n",
    "\n",
    "            # multioulli: sample within segment\n",
    "            lsw_segment = np.logaddexp(lsw_segment, delta)\n",
    "            log_alpha = delta - lsw_segment\n",
    "            if np.log(self.rng.uniform()) < np.minimum(0.0, log_alpha):\n",
    "                theta_star = theta\n",
    "                rho_star = rho\n",
    "                lsw_star = lsw\n",
    "                steps_star = steps\n",
    "                switches_star = switches\n",
    "\n",
    "            # biased: sample segment\n",
    "            if end_segment:\n",
    "                log_beta = lsw_segment - lsw_denom\n",
    "                if np.log(self.rng.uniform()) < np.minimum(0.0, log_beta):\n",
    "                    theta_prop = theta_star\n",
    "                    rho_prop = rho_star\n",
    "                    lsw_prop = lsw_star\n",
    "                    steps_prop = steps_star\n",
    "                    switches_prop = switches_star\n",
    "                lsw_segment = -np.inf\n",
    "\n",
    "            if end_segment:\n",
    "                if switches >= self.switch_limit - self.switches_passed:\n",
    "                    break\n",
    "\n",
    "        self.steps += steps\n",
    "        if forward:\n",
    "            self.switches_passed = switches_prop\n",
    "            self.store_forward_steps(steps)\n",
    "        return theta_prop, lsw_prop, steps_prop, lsw\n",
    "\n",
    "    def draw(self):\n",
    "        self.draws += 1\n",
    "        try:\n",
    "            theta = self.theta\n",
    "            rho = self.rng.normal(size = self.D)\n",
    "\n",
    "            self.prepare_forward_pass()\n",
    "            theta_star, lsw_star, steps_star, FW = self.trajectory(theta, rho, forward = True)\n",
    "\n",
    "            _, _, _, BW  = self.trajectory(theta, -rho, lsw = lsw_star)\n",
    "            BW = self.logsubexp(BW, 0.0) # don't double count theta0\n",
    "\n",
    "            # H_star - H_0 + (H_0 - BW) - (H_star - FW)\n",
    "            log_alpha = FW - BW\n",
    "\n",
    "            accepted = 0\n",
    "            if np.log(self.rng.uniform()) < np.minimum(0.0, log_alpha):\n",
    "                accepted = 1\n",
    "                self.theta = theta_star\n",
    "                self.store_proposal_steps(steps_star)\n",
    "\n",
    "            # only for comparisons, otherwise unnecessary\n",
    "            self.store_acceptance_probability(accepted)\n",
    "        except Exception as e:\n",
    "            traceback.print_exc()\n",
    "            pass\n",
    "        return self.theta\n"
   ]
  },
  {
   "cell_type": "code",
   "execution_count": null,
   "id": "a4f45513-c391-44bd-97d5-49c4e06e9620",
   "metadata": {},
   "outputs": [],
   "source": []
  },
  {
   "cell_type": "code",
   "execution_count": null,
   "id": "4400dceb-be91-45df-80be-0a639f89bfd5",
   "metadata": {},
   "outputs": [],
   "source": []
  }
 ],
 "metadata": {
  "kernelspec": {
   "display_name": "Python 3 (ipykernel)",
   "language": "python",
   "name": "python3"
  },
  "language_info": {
   "codemirror_mode": {
    "name": "ipython",
    "version": 3
   },
   "file_extension": ".py",
   "mimetype": "text/x-python",
   "name": "python",
   "nbconvert_exporter": "python",
   "pygments_lexer": "ipython3",
   "version": "3.12.7"
  }
 },
 "nbformat": 4,
 "nbformat_minor": 5
}
