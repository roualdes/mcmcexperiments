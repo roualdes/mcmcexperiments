{
 "cells": [
  {
   "cell_type": "code",
   "execution_count": 1,
   "id": "b5917ffa-4e69-4658-be10-3af0afea5109",
   "metadata": {},
   "outputs": [],
   "source": [
    "import pandas as pd\n",
    "import numpy as np\n",
    "import plotnine as pn\n",
    "import itertools as it\n",
    "import numpy as np\n",
    "\n",
    "from pathlib import Path"
   ]
  },
  {
   "cell_type": "code",
   "execution_count": 16,
   "id": "ea5b5210-5b07-4a33-a3d8-3f3f72b6acdc",
   "metadata": {},
   "outputs": [],
   "source": [
    "def wide_to_tall(algo, model, cols):\n",
    "    df = pd.read_parquet(f\"./output/algorithm_by_model/run02/{algo}_{model}.parquet\")\n",
    "    dfs = df[cols].explode(cols).astype(np.float64)\n",
    "    dfs.reset_index()\n",
    "    dfs[\"algorithm\"] = algo\n",
    "    dfs[\"model\"] = model\n",
    "    return dfs\n",
    "\n",
    "def concat_dfs(algo, model, cols, path):\n",
    "    df_results = []\n",
    "    for algo, model in it.product(algos, models):\n",
    "        df_results.append(wide_to_tall(algo, model, cols))  \n",
    "    pd.concat(df_results).to_parquet(path)"
   ]
  },
  {
   "cell_type": "code",
   "execution_count": 17,
   "id": "d8f7140c-7549-4179-95d9-a64b4bad524a",
   "metadata": {},
   "outputs": [],
   "source": [
    "algos = [\"stan\", \"gistum\", \"gistvb\", \"gistvm\"] # \"gistvd\",\n",
    "models = [\n",
    "    \"corr-normal\",\n",
    "    \"garch\",\n",
    "    \"glmm-poisson\",\n",
    "    \"hmm\",\n",
    "    \"ill-normal\",\n",
    "    \"lotka-volterra\",\n",
    "    \"normal\",\n",
    "    \"rosenbrock\",\n",
    "    # \"arma\",\n",
    "    # \"arK\"\n",
    "]\n",
    "output = Path(\"./output/collected/run02\")"
   ]
  },
  {
   "cell_type": "code",
   "execution_count": 18,
   "id": "ba0fcf2c-7b7a-4a23-8777-2d276f67747b",
   "metadata": {},
   "outputs": [],
   "source": [
    "cols = [\"forward_steps\"]\n",
    "concat_dfs(algos, models, cols, output / \"forward_steps.parquet\")"
   ]
  },
  {
   "cell_type": "code",
   "execution_count": 19,
   "id": "ff89b5a0-8942-40d0-b39c-abd55446e9f4",
   "metadata": {},
   "outputs": [],
   "source": [
    "cols = [\"steps\", \"mean_stop_steps\", \"mean_proposal_steps\"]\n",
    "concat_dfs(algos, models, cols, output / \"steps.parquet\")"
   ]
  },
  {
   "cell_type": "code",
   "execution_count": 20,
   "id": "a3a5caf0-d8a1-4e81-8062-1c18e4fd8cb7",
   "metadata": {},
   "outputs": [],
   "source": [
    "cols = [\"essx\", \"essx2\"]\n",
    "concat_dfs(algos, models, cols, output / \"ess.parquet\")"
   ]
  },
  {
   "cell_type": "code",
   "execution_count": 21,
   "id": "12508948-35fb-40e5-958c-a61b55d8ab74",
   "metadata": {},
   "outputs": [],
   "source": [
    "cols = [\"rmse\", \"rmse_sq\"]\n",
    "concat_dfs(algos, models, cols, output / \"rmse.parquet\")"
   ]
  },
  {
   "cell_type": "code",
   "execution_count": 22,
   "id": "6e63d77e-0058-49ec-aa08-4d39d8f517fa",
   "metadata": {},
   "outputs": [],
   "source": [
    "cols = [\"acceptance_rate\"]\n",
    "concat_dfs(algos, models, cols, output / \"acceptance_rate.parquet\")"
   ]
  },
  {
   "cell_type": "code",
   "execution_count": 23,
   "id": "9a996bf5-b53d-4489-8246-a3c2ece50f02",
   "metadata": {},
   "outputs": [],
   "source": [
    "cols = [\"msjd\"]\n",
    "concat_dfs(algos, models, cols, output / \"msjd.parquet\")"
   ]
  },
  {
   "cell_type": "code",
   "execution_count": null,
   "id": "5159a3c0-b31a-44cb-a130-06d2fc475e5a",
   "metadata": {},
   "outputs": [],
   "source": []
  }
 ],
 "metadata": {
  "kernelspec": {
   "display_name": "Python 3 (ipykernel)",
   "language": "python",
   "name": "python3"
  },
  "language_info": {
   "codemirror_mode": {
    "name": "ipython",
    "version": 3
   },
   "file_extension": ".py",
   "mimetype": "text/x-python",
   "name": "python",
   "nbconvert_exporter": "python",
   "pygments_lexer": "ipython3",
   "version": "3.12.7"
  }
 },
 "nbformat": 4,
 "nbformat_minor": 5
}
