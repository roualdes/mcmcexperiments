{
 "cells": [
  {
   "cell_type": "code",
   "execution_count": 77,
   "id": "84546243",
   "metadata": {},
   "outputs": [],
   "source": [
    "import sys\n",
    "import os\n",
    "parent_dir = os.path.abspath(os.path.join(os.path.dirname(\".\"), '..'))\n",
    "sys.path.insert(0, parent_dir)\n",
    "from bsmodel import BSModel\n",
    "import numpy as np\n",
    "import matplotlib.pyplot as plt\n",
    "import bridgestan as bs\n",
    "from scipy.stats import norm\n",
    "from ipywidgets import interact, FloatSlider"
   ]
  },
  {
   "cell_type": "code",
   "execution_count": 78,
   "id": "e8b046da",
   "metadata": {},
   "outputs": [],
   "source": [
    "homedir = \"/mnt/c/Users/jccer/\"\n",
    "bs.set_bridgestan_path(homedir + \"bridgestan\")"
   ]
  },
  {
   "cell_type": "code",
   "execution_count": 79,
   "id": "50116e99",
   "metadata": {},
   "outputs": [],
   "source": [
    "bs_model1 = BSModel(stan_file = homedir + \"mcmcexperiments/stan/one_exponential.stan\",\n",
    "                   data_file = homedir + \"mcmcexperiments/stan/one_exponential.json\")\n",
    "bs_model2 = BSModel(stan_file = homedir + \"mcmcexperiments/stan/one_normal.stan\",\n",
    "                   data_file = homedir + \"mcmcexperiments/stan/one_normal.json\")\n",
    "bs_model3 = BSModel(stan_file = homedir + \"mcmcexperiments/stan/one_t.stan\",\n",
    "                   data_file = homedir + \"mcmcexperiments/stan/one_t.json\")"
   ]
  },
  {
   "cell_type": "code",
   "execution_count": 80,
   "id": "e5024e51",
   "metadata": {},
   "outputs": [],
   "source": [
    "class SinhArcsinhDistribution():\n",
    "    def __init__(self, m = 0.0, s = 0.0, d = 0.0, e = 0.0):\n",
    "        self.m = m\n",
    "        self.s = s\n",
    "        self.d = d\n",
    "        self.e = e\n",
    "\n",
    "    def logpdf(self, x):\n",
    "        m, s, d, e = self.m, self.s, self.d, self.e\n",
    "        z = (x - m) / s\n",
    "        out = -0.5 * np.log(2 * np.pi)\n",
    "        out += -0.25 * (np.cosh(2 * d * np.arcsinh(z) - 2 * e) - 1)\n",
    "        out += np.log(np.cosh(d * np.arcsinh(z) - e))\n",
    "        out += np.log(d) - np.log(s)\n",
    "        out += -0.5 * np.log(1 + z**2)\n",
    "        return out\n",
    "\n",
    "    def pdf(self, x):\n",
    "        return np.exp(self.logpdf(x))"
   ]
  },
  {
   "cell_type": "code",
   "execution_count": 81,
   "id": "433f2b2b",
   "metadata": {},
   "outputs": [],
   "source": [
    "mu_slider = FloatSlider(value = 0.0, min = -10.0, max = 10.0, step = 0.01, description = 'μ')\n",
    "sigma_slider = FloatSlider(value = 0.01, min = 0.01, max = 10.0, step = 0.01, description = 'σ')\n",
    "m_slider = FloatSlider(value = 0, min = -10, max = 10, step = 0.01, description = 'm')\n",
    "s_slider = FloatSlider(value = 1, min = 0.01, max = 10, step = 0.01, description = 's')\n",
    "d_slider = FloatSlider(value = 1, min = 0.01, max = 10, step = 0.01, description = 'd')\n",
    "e_slider = FloatSlider(value = 0, min = -10, max = 10, step = 0.01, description = 'e')"
   ]
  },
  {
   "cell_type": "code",
   "execution_count": null,
   "id": "a842278d",
   "metadata": {},
   "outputs": [
    {
     "data": {
      "application/vnd.jupyter.widget-view+json": {
       "model_id": "a025cec2852f48ceb3b62e92e9cfc6a1",
       "version_major": 2,
       "version_minor": 0
      },
      "text/plain": [
       "interactive(children=(FloatSlider(value=3.3900000000000006, description='μ', max=10.0, min=-10.0, step=0.01), …"
      ]
     },
     "metadata": {},
     "output_type": "display_data"
    },
    {
     "data": {
      "text/plain": [
       "<function __main__.plot_combined(mu=0.0, sigma=1.0, m=0.0, s=0.0, d=0.0, e=0.0)>"
      ]
     },
     "execution_count": 85,
     "metadata": {},
     "output_type": "execute_result"
    }
   ],
   "source": [
    "xx = np.linspace(-10, 10, 301)\n",
    "fxx = [np.exp(bs_model1.log_density(np.array([xxn]), propto = False)) for xxn in xx]\n",
    "\n",
    "def plot_combined(mu = 0.0, sigma = 1.0, m = 0.0, s = 0.0, d = 0.0, e = 0.0):\n",
    "    x = np.linspace(mu - 5 * sigma, mu + 5 * sigma, 1000)\n",
    "    NormalDistribution = norm(loc = mu, scale = sigma)\n",
    "    fy = NormalDistribution.pdf(x)\n",
    "    SinhArcsinh = SinhArcsinhDistribution(m = m, s = s, d = d, e = e)\n",
    "    qy = SinhArcsinh.pdf(x)\n",
    "\n",
    "    plt.figure(figsize = (8, 5))\n",
    "    plt.plot(x, fy, label = f'Normal: μ = {mu: .2f}, σ = {sigma: .2f}', color = 'blue')\n",
    "    plt.plot(x, qy, label = 'Bridgestan Model', color = 'green')\n",
    "    plt.xlabel('x')\n",
    "    plt.ylabel('f(x)')\n",
    "    plt.title('Bridgestan Model with Normal Distribution and SAS Distribution')\n",
    "    plt.grid(True)\n",
    "    plt.minorticks_on()\n",
    "    plt.legend()\n",
    "    plt.show()\n",
    "\n",
    "interact(plot_combined,\n",
    "         m = m_slider,\n",
    "         s = s_slider,\n",
    "         d = d_slider,\n",
    "         e = e_slider,\n",
    "         mu = mu_slider,\n",
    "         sigma = sigma_slider)"
   ]
  },
  {
   "cell_type": "code",
   "execution_count": 86,
   "id": "71d9f7e8",
   "metadata": {},
   "outputs": [
    {
     "data": {
      "application/vnd.jupyter.widget-view+json": {
       "model_id": "489d9ea3a5624a99ba80f9dee768face",
       "version_major": 2,
       "version_minor": 0
      },
      "text/plain": [
       "interactive(children=(FloatSlider(value=3.3900000000000006, description='μ', max=10.0, min=-10.0, step=0.01), …"
      ]
     },
     "metadata": {},
     "output_type": "display_data"
    },
    {
     "data": {
      "text/plain": [
       "<function __main__.plot_combined(mu=0.0, sigma=1.0, m=0.0, s=0.0, d=0.0, e=0.0)>"
      ]
     },
     "execution_count": 86,
     "metadata": {},
     "output_type": "execute_result"
    }
   ],
   "source": [
    "xx = np.linspace(-10, 10, 301)\n",
    "fxx = [np.exp(bs_model2.log_density(np.array([xxn]), propto = False)) for xxn in xx]\n",
    "\n",
    "interact(plot_combined,\n",
    "         m = m_slider,\n",
    "         s = s_slider,\n",
    "         d = d_slider,\n",
    "         e = e_slider,\n",
    "         mu = mu_slider,\n",
    "         sigma = sigma_slider)"
   ]
  },
  {
   "cell_type": "code",
   "execution_count": 87,
   "id": "f187e6c3",
   "metadata": {},
   "outputs": [
    {
     "data": {
      "application/vnd.jupyter.widget-view+json": {
       "model_id": "6260f79343bf49e0a86b3ed4995b4fd4",
       "version_major": 2,
       "version_minor": 0
      },
      "text/plain": [
       "interactive(children=(FloatSlider(value=3.3900000000000006, description='μ', max=10.0, min=-10.0, step=0.01), …"
      ]
     },
     "metadata": {},
     "output_type": "display_data"
    },
    {
     "data": {
      "text/plain": [
       "<function __main__.plot_combined(mu=0.0, sigma=1.0, m=0.0, s=0.0, d=0.0, e=0.0)>"
      ]
     },
     "execution_count": 87,
     "metadata": {},
     "output_type": "execute_result"
    }
   ],
   "source": [
    "xx = np.linspace(-10, 10, 301)\n",
    "fxx = [np.exp(bs_model3.log_density(np.array([xxn]), propto = False)) for xxn in xx]\n",
    "\n",
    "interact(plot_combined,\n",
    "         m = m_slider,\n",
    "         s = s_slider,\n",
    "         d = d_slider,\n",
    "         e = e_slider,\n",
    "         mu = mu_slider,\n",
    "         sigma = sigma_slider)"
   ]
  }
 ],
 "metadata": {
  "kernelspec": {
   "display_name": "Python 3",
   "language": "python",
   "name": "python3"
  },
  "language_info": {
   "codemirror_mode": {
    "name": "ipython",
    "version": 3
   },
   "file_extension": ".py",
   "mimetype": "text/x-python",
   "name": "python",
   "nbconvert_exporter": "python",
   "pygments_lexer": "ipython3",
   "version": "3.10.12"
  }
 },
 "nbformat": 4,
 "nbformat_minor": 5
}
