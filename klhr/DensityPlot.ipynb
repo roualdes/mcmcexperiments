{
 "cells": [
  {
   "cell_type": "code",
   "execution_count": 8,
   "id": "84546243",
   "metadata": {},
   "outputs": [],
   "source": [
    "import sys\n",
    "import os\n",
    "parent_dir = os.path.abspath(os.path.join(os.path.dirname(\".\"), '..'))\n",
    "sys.path.insert(0, parent_dir)\n",
    "from bsmodel import BSModel\n",
    "import numpy as np\n",
    "import matplotlib.pyplot as plt\n",
    "import bridgestan as bs\n",
    "from scipy.stats import norm\n",
    "from ipywidgets import interact, FloatSlider"
   ]
  },
  {
   "cell_type": "code",
   "execution_count": 9,
   "id": "e8b046da",
   "metadata": {},
   "outputs": [],
   "source": [
    "homedir = \"/Users/edward/\" # \"/mnt/c/Users/jccer/\"\n",
    "bs.set_bridgestan_path(homedir + \"bridgestan\")"
   ]
  },
  {
   "cell_type": "code",
   "execution_count": 10,
   "id": "50116e99",
   "metadata": {},
   "outputs": [
    {
     "name": "stderr",
     "output_type": "stream",
     "text": [
      "/Users/edward/venvs/py3/lib/python3.12/site-packages/bridgestan/model.py:177: RuntimeWarning: The version of the compiled model does not match the version of the Python package. Consider recompiling the model.\n",
      "  warnings.warn(\n",
      "/Users/edward/venvs/py3/lib/python3.12/site-packages/bridgestan/model.py:177: RuntimeWarning: The version of the compiled model does not match the version of the Python package. Consider recompiling the model.\n",
      "  warnings.warn(\n"
     ]
    }
   ],
   "source": [
    "bs_model1 = BSModel(stan_file = homedir + \"mcmcexperiments/stan/one_exponential.stan\",\n",
    "                   data_file = homedir + \"mcmcexperiments/stan/one_exponential.json\")\n",
    "bs_model2 = BSModel(stan_file = homedir + \"mcmcexperiments/stan/one_normal.stan\",\n",
    "                   data_file = homedir + \"mcmcexperiments/stan/one_normal.json\")\n",
    "bs_model3 = BSModel(stan_file = homedir + \"mcmcexperiments/stan/one_t.stan\",\n",
    "                   data_file = homedir + \"mcmcexperiments/stan/one_t.json\")"
   ]
  },
  {
   "cell_type": "code",
   "execution_count": 11,
   "id": "e5024e51",
   "metadata": {},
   "outputs": [],
   "source": [
    "class SinhArcsinhDistribution():\n",
    "    def __init__(self, m = 0.0, s = 0.0, d = 0.0, e = 0.0):\n",
    "        self.m = m\n",
    "        self.s = s\n",
    "        self.d = d\n",
    "        self.e = e\n",
    "\n",
    "    def logpdf(self, x):\n",
    "        m, s, d, e = self.m, self.s, self.d, self.e\n",
    "        z = (x - m) / s\n",
    "        out = -0.5 * np.log(2 * np.pi)\n",
    "        out += -0.25 * (np.cosh(2 * d * np.arcsinh(z) - 2 * e) - 1)\n",
    "        out += np.log(np.cosh(d * np.arcsinh(z) - e))\n",
    "        out += np.log(d) - np.log(s)\n",
    "        out += -0.5 * np.log(1 + z**2)\n",
    "        return out\n",
    "\n",
    "    def pdf(self, x):\n",
    "        return np.exp(self.logpdf(x))"
   ]
  },
  {
   "cell_type": "code",
   "execution_count": 12,
   "id": "433f2b2b",
   "metadata": {},
   "outputs": [],
   "source": [
    "mu_slider = FloatSlider(value = 0.0, min = -10.0, max = 10.0, step = 0.01, description = 'μ')\n",
    "sigma_slider = FloatSlider(value = 0.01, min = 0.01, max = 10.0, step = 0.01, description = 'σ')\n",
    "m_slider = FloatSlider(value = 0, min = -10, max = 10, step = 0.01, description = 'm')\n",
    "s_slider = FloatSlider(value = 1, min = 0.01, max = 10, step = 0.01, description = 's')\n",
    "d_slider = FloatSlider(value = 1, min = 0.01, max = 10, step = 0.01, description = 'd')\n",
    "e_slider = FloatSlider(value = 0, min = -10, max = 10, step = 0.01, description = 'e')"
   ]
  },
  {
   "cell_type": "code",
   "execution_count": 20,
   "id": "8e9659c2-13a2-4670-9a30-d512937df745",
   "metadata": {},
   "outputs": [],
   "source": [
    "xx = np.linspace(-10, 10, 301)\n",
    "\n",
    "def plot_combined(mu = 0.0, sigma = 1.0, m = 0.0, s = 0.0, d = 0.0, e = 0.0):\n",
    "    x = np.linspace(mu - 5 * sigma, mu + 5 * sigma, 1000)\n",
    "    NormalDistribution = norm(loc = mu, scale = sigma)\n",
    "    fy = NormalDistribution.pdf(x)\n",
    "    SinhArcsinh = SinhArcsinhDistribution(m = m, s = s, d = d, e = e)\n",
    "    qy = SinhArcsinh.pdf(x)\n",
    "\n",
    "    plt.figure(figsize = (8, 5))\n",
    "    plt.plot(x, fy, label = f'Normal: μ = {mu: .2f}, σ = {sigma: .2f}', color = 'blue')\n",
    "    plt.plot(x, qy, label = 'SAS', color = 'green')\n",
    "    plt.plot(xx, fxx, label = \"BridgeStan model\")\n",
    "    plt.xlabel('x')\n",
    "    plt.ylabel('f(x)')\n",
    "    plt.title('Bridgestan Model with Normal Distribution and SAS Distribution')\n",
    "    plt.grid(True)\n",
    "    plt.minorticks_on()\n",
    "    plt.legend()\n",
    "    plt.show()"
   ]
  },
  {
   "cell_type": "code",
   "execution_count": 21,
   "id": "a842278d",
   "metadata": {},
   "outputs": [
    {
     "data": {
      "application/vnd.jupyter.widget-view+json": {
       "model_id": "7896d474e03b4bfba79ff934612f1e6b",
       "version_major": 2,
       "version_minor": 0
      },
      "text/plain": [
       "interactive(children=(FloatSlider(value=0.0, description='μ', max=10.0, min=-10.0, step=0.01), FloatSlider(val…"
      ]
     },
     "metadata": {},
     "output_type": "display_data"
    },
    {
     "data": {
      "text/plain": [
       "<function __main__.plot_combined(mu=0.0, sigma=1.0, m=0.0, s=0.0, d=0.0, e=0.0)>"
      ]
     },
     "execution_count": 21,
     "metadata": {},
     "output_type": "execute_result"
    }
   ],
   "source": [
    "fxx = [np.exp(bs_model1.log_density(np.array([xxn]), propto = False)) for xxn in xx]\n",
    "\n",
    "interact(plot_combined,\n",
    "         m = m_slider,\n",
    "         s = s_slider,\n",
    "         d = d_slider,\n",
    "         e = e_slider,\n",
    "         mu = mu_slider,\n",
    "         sigma = sigma_slider)"
   ]
  },
  {
   "cell_type": "code",
   "execution_count": 22,
   "id": "71d9f7e8",
   "metadata": {},
   "outputs": [
    {
     "data": {
      "application/vnd.jupyter.widget-view+json": {
       "model_id": "14246e044a1a4ec0adcd2a37b69d183a",
       "version_major": 2,
       "version_minor": 0
      },
      "text/plain": [
       "interactive(children=(FloatSlider(value=-3.389999999999999, description='μ', max=10.0, min=-10.0, step=0.01), …"
      ]
     },
     "metadata": {},
     "output_type": "display_data"
    },
    {
     "data": {
      "text/plain": [
       "<function __main__.plot_combined(mu=0.0, sigma=1.0, m=0.0, s=0.0, d=0.0, e=0.0)>"
      ]
     },
     "execution_count": 22,
     "metadata": {},
     "output_type": "execute_result"
    }
   ],
   "source": [
    "\n",
    "fxx = [np.exp(bs_model2.log_density(np.array([xxn]), propto = False)) for xxn in xx]\n",
    "\n",
    "interact(plot_combined,\n",
    "         m = m_slider,\n",
    "         s = s_slider,\n",
    "         d = d_slider,\n",
    "         e = e_slider,\n",
    "         mu = mu_slider,\n",
    "         sigma = sigma_slider)"
   ]
  },
  {
   "cell_type": "code",
   "execution_count": 23,
   "id": "f187e6c3",
   "metadata": {},
   "outputs": [
    {
     "data": {
      "application/vnd.jupyter.widget-view+json": {
       "model_id": "79a1f2f0da33486abda193985ba8de28",
       "version_major": 2,
       "version_minor": 0
      },
      "text/plain": [
       "interactive(children=(FloatSlider(value=-3.389999999999999, description='μ', max=10.0, min=-10.0, step=0.01), …"
      ]
     },
     "metadata": {},
     "output_type": "display_data"
    },
    {
     "data": {
      "text/plain": [
       "<function __main__.plot_combined(mu=0.0, sigma=1.0, m=0.0, s=0.0, d=0.0, e=0.0)>"
      ]
     },
     "execution_count": 23,
     "metadata": {},
     "output_type": "execute_result"
    }
   ],
   "source": [
    "fxx = [np.exp(bs_model3.log_density(np.array([xxn]), propto = False)) for xxn in xx]\n",
    "\n",
    "interact(plot_combined,\n",
    "         m = m_slider,\n",
    "         s = s_slider,\n",
    "         d = d_slider,\n",
    "         e = e_slider,\n",
    "         mu = mu_slider,\n",
    "         sigma = sigma_slider)"
   ]
  }
 ],
 "metadata": {
  "kernelspec": {
   "display_name": "Python 3 (ipykernel)",
   "language": "python",
   "name": "python3"
  },
  "language_info": {
   "codemirror_mode": {
    "name": "ipython",
    "version": 3
   },
   "file_extension": ".py",
   "mimetype": "text/x-python",
   "name": "python",
   "nbconvert_exporter": "python",
   "pygments_lexer": "ipython3",
   "version": "3.12.7"
  }
 },
 "nbformat": 4,
 "nbformat_minor": 5
}
