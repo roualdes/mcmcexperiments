{
 "cells": [
  {
   "cell_type": "code",
   "execution_count": 29,
   "id": "84546243",
   "metadata": {},
   "outputs": [],
   "source": [
    "import sys\n",
    "import os\n",
    "parent_dir = os.path.abspath(os.path.join(os.path.dirname(\".\"), '..'))\n",
    "sys.path.insert(0, parent_dir)\n",
    "from bsmodel import BSModel\n",
    "import numpy as np\n",
    "import matplotlib.pyplot as plt\n",
    "import bridgestan as bs\n",
    "from scipy.stats import norm\n",
    "from ipywidgets import interact, FloatSlider"
   ]
  },
  {
   "cell_type": "code",
   "execution_count": 30,
   "id": "e8b046da",
   "metadata": {},
   "outputs": [],
   "source": [
    "homedir = \"/mnt/c/Users/jccer/\"\n",
    "bs.set_bridgestan_path(homedir + \"bridgestan\")"
   ]
  },
  {
   "cell_type": "code",
   "execution_count": 31,
   "id": "50116e99",
   "metadata": {},
   "outputs": [],
   "source": [
    "bs_model1 = BSModel(stan_file = homedir + \"mcmcexperiments/stan/one_exponential.stan\",\n",
    "                   data_file = homedir + \"mcmcexperiments/stan/one_exponential.json\")\n",
    "bs_model2 = BSModel(stan_file = homedir + \"mcmcexperiments/stan/one_normal.stan\",\n",
    "                   data_file = homedir + \"mcmcexperiments/stan/one_normal.json\")\n",
    "bs_model3 = BSModel(stan_file = homedir + \"mcmcexperiments/stan/one_t.stan\",\n",
    "                   data_file = homedir + \"mcmcexperiments/stan/one_t.json\")"
   ]
  },
  {
   "cell_type": "code",
   "execution_count": 33,
   "id": "e5024e51",
   "metadata": {},
   "outputs": [
    {
     "data": {
      "application/vnd.jupyter.widget-view+json": {
       "model_id": "0b1e92d4230e445692d4a44164fc10a0",
       "version_major": 2,
       "version_minor": 0
      },
      "text/plain": [
       "interactive(children=(FloatSlider(value=0.0, description='m', max=10.0, min=-10.0, step=0.01), FloatSlider(val…"
      ]
     },
     "metadata": {},
     "output_type": "display_data"
    },
    {
     "data": {
      "text/plain": [
       "<function __main__.<lambda>(m, s, d, e, mu_overlay, sigma_overlay)>"
      ]
     },
     "execution_count": 33,
     "metadata": {},
     "output_type": "execute_result"
    }
   ],
   "source": [
    "class SinhArcsinhDistribution():\n",
    "    def __init__(self, m = 0.0, s = 0.0, d = 0.0, e = 0.0):\n",
    "        self.m = m\n",
    "        self.s = s\n",
    "        self.d = d\n",
    "        self.e = e\n",
    "\n",
    "    def logpdf(self, x):\n",
    "        m, s, d, e = self.m, self.s, self.d, self.e\n",
    "        z = (x - m) / s\n",
    "        out = -0.5 * np.log(2 * np.pi)\n",
    "        out += -0.25 * (np.cosh(2 * d * np.arcsinh(z) - 2 * e) - 1)\n",
    "        out += np.log(np.cosh(d * np.arcsinh(z) - e))\n",
    "        out += np.log(d) - np.log(s)\n",
    "        out += -0.5 * np.log(1 + z**2)\n",
    "        return out\n",
    "\n",
    "    def pdf(self, x):\n",
    "        return np.exp(self.logpdf(x))\n",
    "\n",
    "    def update_parameters(self, m, s, d, e):\n",
    "        self.m, self.s, self.d, self.e = m, s, d, e\n",
    "\n",
    "    def plot(self, mu_line = None, sigma_line = None):\n",
    "        x = np.linspace(self.m - 4 * self.s, self.m + 4 * self.s, 500)\n",
    "        y = self.pdf(x)\n",
    "\n",
    "        plt.figure(figsize = (8,5))\n",
    "        plt.plot(x, y, label = fr\"$\\log q(x|m,s,d,e)$\")\n",
    "\n",
    "        if mu_line is not None:\n",
    "            plt.axvline(mu_line, color='red', linestyle='--', linewidth=1.5, label=r\"$\\mu$\")\n",
    "        if sigma_line is not None:\n",
    "            plt.axvline(mu_line - sigma_line, color='gray', linestyle=':', linewidth=1.2, label=r\"$\\mu - \\sigma$\")\n",
    "            plt.axvline(mu_line + sigma_line, color='gray', linestyle=':', linewidth=1.2, label=r\"$\\mu + \\sigma$\")\n",
    "\n",
    "        plt.title(\"SAS Distribution with μ and σ\")\n",
    "        plt.xlabel(\"x\")\n",
    "        plt.ylabel(\"PDF\")\n",
    "        plt.grid(True)\n",
    "        plt.legend()\n",
    "        plt.show()\n",
    "\n",
    "SASDistribution = SinhArcsinhDistribution()\n",
    "interact(lambda m, s, d, e, mu_overlay, sigma_overlay: (\n",
    "    SASDistribution.update_parameters(m, s, d, e), \n",
    "    SASDistribution.plot(mu_line = mu_overlay, sigma_line = sigma_overlay)),\n",
    "    m = FloatSlider(value = 0, min = -10, max = 10, step = 0.01, description = 'm'),\n",
    "    s = FloatSlider(value = 1, min = 0.01, max = 10, step = 0.01, description = 's'),\n",
    "    d = FloatSlider(value = 1, min = 0.01, max = 10, step = 0.01, description = 'd'),\n",
    "    e = FloatSlider(value = 0, min = -10, max = 10, step = 0.01, description = 'e'),\n",
    "    mu_overlay = FloatSlider(value = 0, min = -10, max = 10, step = 0.01, description = 'μ overlay'),\n",
    "    sigma_overlay = FloatSlider(value = 0.01, min = 0.01, max = 10, step = 0.01, description = 'σ overlay'))"
   ]
  },
  {
   "cell_type": "code",
   "execution_count": 34,
   "id": "a842278d",
   "metadata": {},
   "outputs": [
    {
     "data": {
      "application/vnd.jupyter.widget-view+json": {
       "model_id": "684ffeeaa80044909a622f2b8b3923f6",
       "version_major": 2,
       "version_minor": 0
      },
      "text/plain": [
       "interactive(children=(FloatSlider(value=0.0, description='μ (mean)', max=10.0, min=-10.0, step=0.01), FloatSli…"
      ]
     },
     "metadata": {},
     "output_type": "display_data"
    },
    {
     "data": {
      "text/plain": [
       "<function __main__.plot_combined(mu=0.0, sigma=1.0)>"
      ]
     },
     "execution_count": 34,
     "metadata": {},
     "output_type": "execute_result"
    }
   ],
   "source": [
    "xx = np.linspace(-10, 10, 301)\n",
    "fxx = [np.exp(bs_model1.log_density(np.array([xxn]), propto = False)) for xxn in xx]\n",
    "\n",
    "def plot_combined(mu = 0.0, sigma = 1.0):\n",
    "    x = np.linspace(mu - 5 * sigma, mu + 5 * sigma, 1000)\n",
    "    NormalDistribution = norm(loc = mu, scale = sigma)\n",
    "    y = NormalDistribution.pdf(x)\n",
    "\n",
    "    plt.figure(figsize = (8, 5))\n",
    "    \n",
    "    plt.plot(x, y, label = f'Normal: μ = {mu:.2f}, σ = {sigma:.2f}', color = 'blue')\n",
    "    plt.axvline(mu, color = 'red', linestyle = '--', label = 'Mean (μ)')\n",
    "    plt.plot(xx, fxx, label = 'Bridgestan Model', color = 'green')\n",
    "    \n",
    "    plt.xlabel('x')\n",
    "    plt.ylabel('f(x)')\n",
    "    plt.title('Bridgestan Model vs Normal Distribution')\n",
    "    plt.grid(True)\n",
    "    plt.minorticks_on()\n",
    "    plt.legend()\n",
    "    plt.show()\n",
    "\n",
    "interact(plot_combined,\n",
    "         mu = FloatSlider(value = 0.0, min = -10.0, max = 10.0, step = 0.01, description = 'μ (mean)'),\n",
    "         sigma = FloatSlider(value = 0.01, min = 0.01, max = 10.0, step = 0.01, description = 'σ (std)'))"
   ]
  },
  {
   "cell_type": "code",
   "execution_count": 35,
   "id": "71d9f7e8",
   "metadata": {},
   "outputs": [
    {
     "data": {
      "application/vnd.jupyter.widget-view+json": {
       "model_id": "fe8a494d93a5438ca8d04c8c43c3cec9",
       "version_major": 2,
       "version_minor": 0
      },
      "text/plain": [
       "interactive(children=(FloatSlider(value=0.0, description='μ (mean)', max=10.0, min=-10.0, step=0.01), FloatSli…"
      ]
     },
     "metadata": {},
     "output_type": "display_data"
    },
    {
     "data": {
      "text/plain": [
       "<function __main__.plot_combined(mu=0.0, sigma=1.0)>"
      ]
     },
     "execution_count": 35,
     "metadata": {},
     "output_type": "execute_result"
    }
   ],
   "source": [
    "xx = np.linspace(-10, 10, 301)\n",
    "fxx = [np.exp(bs_model2.log_density(np.array([xxn]), propto = False)) for xxn in xx]\n",
    "\n",
    "interact(plot_combined,\n",
    "         mu = FloatSlider(value = 0.0, min = -10.0, max = 10.0, step = 0.01, description = 'μ (mean)'),\n",
    "         sigma = FloatSlider(value = 0.01, min = 0.01, max = 10.0, step = 0.01, description = 'σ (std)'))"
   ]
  },
  {
   "cell_type": "code",
   "execution_count": 36,
   "id": "f187e6c3",
   "metadata": {},
   "outputs": [
    {
     "data": {
      "application/vnd.jupyter.widget-view+json": {
       "model_id": "53e3b5e7ac68430e86676acdadb1a659",
       "version_major": 2,
       "version_minor": 0
      },
      "text/plain": [
       "interactive(children=(FloatSlider(value=0.0, description='μ (mean)', max=10.0, min=-10.0, step=0.01), FloatSli…"
      ]
     },
     "metadata": {},
     "output_type": "display_data"
    },
    {
     "data": {
      "text/plain": [
       "<function __main__.plot_combined(mu=0.0, sigma=1.0)>"
      ]
     },
     "execution_count": 36,
     "metadata": {},
     "output_type": "execute_result"
    }
   ],
   "source": [
    "xx = np.linspace(-10, 10, 301)\n",
    "fxx = [np.exp(bs_model3.log_density(np.array([xxn]), propto = False)) for xxn in xx]\n",
    "\n",
    "interact(plot_combined,\n",
    "         mu = FloatSlider(value = 0.0, min = -10.0, max = 10.0, step = 0.01, description = 'μ (mean)'),\n",
    "         sigma = FloatSlider(value = 0.01, min = 0.01, max = 10.0, step = 0.01, description = 'σ (std)'))"
   ]
  }
 ],
 "metadata": {
  "kernelspec": {
   "display_name": "Python 3",
   "language": "python",
   "name": "python3"
  },
  "language_info": {
   "codemirror_mode": {
    "name": "ipython",
    "version": 3
   },
   "file_extension": ".py",
   "mimetype": "text/x-python",
   "name": "python",
   "nbconvert_exporter": "python",
   "pygments_lexer": "ipython3",
   "version": "3.10.12"
  }
 },
 "nbformat": 4,
 "nbformat_minor": 5
}
