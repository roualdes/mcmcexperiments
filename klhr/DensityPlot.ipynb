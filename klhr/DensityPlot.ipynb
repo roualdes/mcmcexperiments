{
 "cells": [
  {
   "cell_type": "code",
   "execution_count": 87,
   "id": "84546243",
   "metadata": {},
   "outputs": [],
   "source": [
    "import numpy as np\n",
    "import matplotlib.pyplot as plt\n",
    "from scipy.stats import norm\n",
    "from ipywidgets import interact, FloatSlider"
   ]
  },
  {
   "cell_type": "code",
   "execution_count": 88,
   "id": "7a0c5938",
   "metadata": {},
   "outputs": [
    {
     "data": {
      "application/vnd.jupyter.widget-view+json": {
       "model_id": "3f52904b339f4c518ecd68ff674d01e3",
       "version_major": 2,
       "version_minor": 0
      },
      "text/plain": [
       "interactive(children=(FloatSlider(value=0.0, description='μ (mean)', max=50.0, min=-50.0, step=0.01), FloatSli…"
      ]
     },
     "metadata": {},
     "output_type": "display_data"
    },
    {
     "data": {
      "text/plain": [
       "<function __main__.plot_normal_pdf(mu=0.0, sigma=1.0)>"
      ]
     },
     "execution_count": 88,
     "metadata": {},
     "output_type": "execute_result"
    }
   ],
   "source": [
    "def plot_normal_pdf(mu=0.0, sigma=1.0):\n",
    "    x = np.linspace(mu - 5*sigma, mu + 5*sigma, 1000)\n",
    "    y = norm.pdf(x, mu, sigma)\n",
    "    \n",
    "    plt.figure(figsize=(8, 5))\n",
    "    plt.plot(x, y, label=f'μ = {mu}, σ = {sigma}')\n",
    "    plt.axvline(mu, color='red', linestyle='--', label='Mean (μ)')\n",
    "    plt.xlabel('x')\n",
    "    plt.ylabel('f(x)')\n",
    "    plt.title('Interactive Normal Distribution PDF')\n",
    "    plt.grid(True)\n",
    "    plt.minorticks_on()\n",
    "    plt.legend()\n",
    "    plt.show()\n",
    "\n",
    "interact(plot_normal_pdf,\n",
    "         mu=FloatSlider(value=0.0, min=-50.0, max=50.0, step=0.01, description='μ (mean)'),\n",
    "         sigma=FloatSlider(value=0.01, min=0.01, max=50.0, step=0.01, description='σ (std)'))"
   ]
  }
 ],
 "metadata": {
  "kernelspec": {
   "display_name": "Python 3",
   "language": "python",
   "name": "python3"
  },
  "language_info": {
   "codemirror_mode": {
    "name": "ipython",
    "version": 3
   },
   "file_extension": ".py",
   "mimetype": "text/x-python",
   "name": "python",
   "nbconvert_exporter": "python",
   "pygments_lexer": "ipython3",
   "version": "3.13.5"
  }
 },
 "nbformat": 4,
 "nbformat_minor": 5
}
