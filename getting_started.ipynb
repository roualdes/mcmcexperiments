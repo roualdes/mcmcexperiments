{
 "cells": [
  {
   "cell_type": "markdown",
   "id": "3c67ebcd-de6e-4574-a04e-d154a69f0f4c",
   "metadata": {},
   "source": [
    "# MCMC Experiments"
   ]
  },
  {
   "cell_type": "markdown",
   "id": "abd7ab41-02d1-45a3-b24d-21e5ae60d878",
   "metadata": {},
   "source": [
    "Let's look at what we need to get running, so that we can start to evaluate some MCMC models this semester."
   ]
  },
  {
   "cell_type": "code",
   "execution_count": 7,
   "id": "34692a13-ce12-45a5-aef1-453c291fb60c",
   "metadata": {},
   "outputs": [],
   "source": [
    "from bsmodel import BSModel\n",
    "from pathlib import Path\n",
    "from randomwalk import RW\n",
    "\n",
    "import bridgestan as bs\n",
    "import cmdstanpy as csp\n",
    "import matplotlib.pyplot as plt\n",
    "import numpy as np\n",
    "import tools as tls\n",
    "\n",
    "import json\n",
    "import pprint\n",
    "import yaml"
   ]
  },
  {
   "cell_type": "markdown",
   "id": "7f858881-8533-4e33-8bde-961398ab66ac",
   "metadata": {},
   "source": [
    "I like to put all the general config into a yaml file, and then read this in to configure the various models, parameters, and datasets necessary to evaluate an algorithm."
   ]
  },
  {
   "cell_type": "code",
   "execution_count": 8,
   "id": "fac81279-11e9-4d4b-b5a4-c468373387e1",
   "metadata": {},
   "outputs": [
    {
     "name": "stdout",
     "output_type": "stream",
     "text": [
      "{'print': True,\n",
      " 'digits': 4,\n",
      " 'iterations': 1000,\n",
      " 'warmup': 1000,\n",
      " 'replications': 20,\n",
      " 'seed': None,\n",
      " 'stepsize': 0.24,\n",
      " 'switch_limit': 3,\n",
      " 'segment_length': 2,\n",
      " 'db': 'experiments.db',\n",
      " 'bs_path': '~/bridgestan',\n",
      " 'model_path': 'stan',\n",
      " 'model_name': 'normal',\n",
      " 'init': {'warmup': 10000, 'iterations': 20000}}\n"
     ]
    }
   ],
   "source": [
    "with open(\"config.yaml\") as f:\n",
    "    cfg = yaml.safe_load(f)\n",
    "\n",
    "pprint.pp(cfg)"
   ]
  },
  {
   "cell_type": "markdown",
   "id": "9edb992c-e08a-465f-b2b9-f5ee85d968e0",
   "metadata": {},
   "source": [
    "Next, we set up the C++ code that some of these models depend on.  To get this set up on your machine, you'll need to follow the install instructions at [BridgeStan](https://roualdes.github.io/bridgestan/latest/getting-started.html) before running the code below.  Unfortunately, the install instructions for BridgeStan point you to install instructions for Stan, and this is a necessary step."
   ]
  },
  {
   "cell_type": "code",
   "execution_count": 9,
   "id": "28a0825c-80e9-4de5-b159-bada42d207f2",
   "metadata": {},
   "outputs": [],
   "source": [
    "bs.set_bridgestan_path(Path(cfg[\"bs_path\"]).expanduser())\n",
    "stan_file, data_file = tls.get_stan_files(cfg)"
   ]
  },
  {
   "cell_type": "code",
   "execution_count": 10,
   "id": "bce1c3cf-e6a1-4e6b-a50e-c9369793cd7b",
   "metadata": {},
   "outputs": [
    {
     "data": {
      "text/plain": [
       "'stan/normal.stan'"
      ]
     },
     "execution_count": 10,
     "metadata": {},
     "output_type": "execute_result"
    }
   ],
   "source": [
    "stan_file"
   ]
  },
  {
   "cell_type": "code",
   "execution_count": 12,
   "id": "54d08ff2-648b-47b1-8743-a94312d62db5",
   "metadata": {},
   "outputs": [
    {
     "ename": "FileNotFoundError",
     "evalue": "File 'normal3d.stan' does not exist",
     "output_type": "error",
     "traceback": [
      "\u001b[0;31m---------------------------------------------------------------------------\u001b[0m",
      "\u001b[0;31mFileNotFoundError\u001b[0m                         Traceback (most recent call last)",
      "Cell \u001b[0;32mIn[12], line 1\u001b[0m\n\u001b[0;32m----> 1\u001b[0m bs_model \u001b[38;5;241m=\u001b[39m \u001b[43mBSModel\u001b[49m\u001b[43m(\u001b[49m\u001b[43mstan_file\u001b[49m\u001b[43m \u001b[49m\u001b[38;5;241;43m=\u001b[39;49m\u001b[43m \u001b[49m\u001b[38;5;124;43m'\u001b[39;49m\u001b[38;5;124;43mnormal3d.stan\u001b[39;49m\u001b[38;5;124;43m'\u001b[39;49m\u001b[43m,\u001b[49m\n\u001b[1;32m      2\u001b[0m \u001b[43m                   \u001b[49m\u001b[43mdata_file\u001b[49m\u001b[43m \u001b[49m\u001b[38;5;241;43m=\u001b[39;49m\u001b[43m \u001b[49m\u001b[43mdata_file\u001b[49m\u001b[43m)\u001b[49m\n",
      "File \u001b[0;32m~/mcmcexperiments/bsmodel.py:9\u001b[0m, in \u001b[0;36mBSModel.__init__\u001b[0;34m(self, stan_file, data_file, stepsize, warn)\u001b[0m\n\u001b[1;32m      7\u001b[0m \u001b[38;5;28mself\u001b[39m\u001b[38;5;241m.\u001b[39m_stan_file \u001b[38;5;241m=\u001b[39m stan_file\n\u001b[1;32m      8\u001b[0m \u001b[38;5;28mself\u001b[39m\u001b[38;5;241m.\u001b[39m_data_file \u001b[38;5;241m=\u001b[39m data_file\n\u001b[0;32m----> 9\u001b[0m \u001b[38;5;28mself\u001b[39m\u001b[38;5;241m.\u001b[39mmodel \u001b[38;5;241m=\u001b[39m \u001b[43mbs\u001b[49m\u001b[38;5;241;43m.\u001b[39;49m\u001b[43mStanModel\u001b[49m\u001b[43m(\u001b[49m\u001b[38;5;28;43mself\u001b[39;49m\u001b[38;5;241;43m.\u001b[39;49m\u001b[43m_stan_file\u001b[49m\u001b[43m,\u001b[49m\n\u001b[1;32m     10\u001b[0m \u001b[43m                          \u001b[49m\u001b[43mdata\u001b[49m\u001b[43m \u001b[49m\u001b[38;5;241;43m=\u001b[39;49m\u001b[43m \u001b[49m\u001b[38;5;28;43mself\u001b[39;49m\u001b[38;5;241;43m.\u001b[39;49m\u001b[43m_data_file\u001b[49m\u001b[43m,\u001b[49m\n\u001b[1;32m     11\u001b[0m \u001b[43m                          \u001b[49m\u001b[43mmake_args\u001b[49m\u001b[38;5;241;43m=\u001b[39;49m\u001b[43m[\u001b[49m\u001b[38;5;124;43m\"\u001b[39;49m\u001b[38;5;124;43mSTAN_THREADS=True\u001b[39;49m\u001b[38;5;124;43m\"\u001b[39;49m\u001b[43m]\u001b[49m\u001b[43m,\u001b[49m\n\u001b[1;32m     12\u001b[0m \u001b[43m                          \u001b[49m\u001b[43mwarn\u001b[49m\u001b[43m \u001b[49m\u001b[38;5;241;43m=\u001b[39;49m\u001b[43m \u001b[49m\u001b[43mwarn\u001b[49m\u001b[43m)\u001b[49m\n",
      "File \u001b[0;32m~/venvs/py3/lib/python3.12/site-packages/bridgestan/model.py:111\u001b[0m, in \u001b[0;36mStanModel.__init__\u001b[0;34m(self, model_lib, data, seed, stanc_args, make_args, capture_stan_prints, warn, model_data)\u001b[0m\n\u001b[1;32m     62\u001b[0m \u001b[38;5;28;01mdef\u001b[39;00m \u001b[38;5;21m__init__\u001b[39m(\n\u001b[1;32m     63\u001b[0m     \u001b[38;5;28mself\u001b[39m,\n\u001b[1;32m     64\u001b[0m     model_lib: Union[\u001b[38;5;28mstr\u001b[39m, PathLike],\n\u001b[0;32m   (...)\u001b[0m\n\u001b[1;32m     72\u001b[0m     model_data: Optional[\u001b[38;5;28mstr\u001b[39m] \u001b[38;5;241m=\u001b[39m \u001b[38;5;28;01mNone\u001b[39;00m,\n\u001b[1;32m     73\u001b[0m ) \u001b[38;5;241m-\u001b[39m\u001b[38;5;241m>\u001b[39m \u001b[38;5;28;01mNone\u001b[39;00m:\n\u001b[1;32m     74\u001b[0m \u001b[38;5;250m    \u001b[39m\u001b[38;5;124;03m\"\"\"\u001b[39;00m\n\u001b[1;32m     75\u001b[0m \u001b[38;5;124;03m    Construct a StanModel object for a compiled Stan model and data given\u001b[39;00m\n\u001b[1;32m     76\u001b[0m \u001b[38;5;124;03m    constructor arguments.\u001b[39;00m\n\u001b[0;32m   (...)\u001b[0m\n\u001b[1;32m    109\u001b[0m \u001b[38;5;124;03m        model from C++.\u001b[39;00m\n\u001b[1;32m    110\u001b[0m \u001b[38;5;124;03m    \"\"\"\u001b[39;00m\n\u001b[0;32m--> 111\u001b[0m     \u001b[43mvalidate_readable\u001b[49m\u001b[43m(\u001b[49m\u001b[43mmodel_lib\u001b[49m\u001b[43m)\u001b[49m\n\u001b[1;32m    112\u001b[0m     \u001b[38;5;28;01mif\u001b[39;00m model_data \u001b[38;5;129;01mis\u001b[39;00m \u001b[38;5;129;01mnot\u001b[39;00m \u001b[38;5;28;01mNone\u001b[39;00m:\n\u001b[1;32m    113\u001b[0m         \u001b[38;5;28;01mif\u001b[39;00m data \u001b[38;5;129;01mis\u001b[39;00m \u001b[38;5;129;01mnot\u001b[39;00m \u001b[38;5;28;01mNone\u001b[39;00m:\n",
      "File \u001b[0;32m~/venvs/py3/lib/python3.12/site-packages/bridgestan/util.py:14\u001b[0m, in \u001b[0;36mvalidate_readable\u001b[0;34m(f)\u001b[0m\n\u001b[1;32m      6\u001b[0m \u001b[38;5;250m\u001b[39m\u001b[38;5;124;03m\"\"\"\u001b[39;00m\n\u001b[1;32m      7\u001b[0m \u001b[38;5;124;03mRaise an error if the specified file is not readable.\u001b[39;00m\n\u001b[1;32m      8\u001b[0m \n\u001b[0;32m   (...)\u001b[0m\n\u001b[1;32m     11\u001b[0m \u001b[38;5;124;03m:raises PermissionError: If the file is not readable.\u001b[39;00m\n\u001b[1;32m     12\u001b[0m \u001b[38;5;124;03m\"\"\"\u001b[39;00m\n\u001b[1;32m     13\u001b[0m \u001b[38;5;28;01mif\u001b[39;00m \u001b[38;5;129;01mnot\u001b[39;00m os\u001b[38;5;241m.\u001b[39mpath\u001b[38;5;241m.\u001b[39misfile(f):\n\u001b[0;32m---> 14\u001b[0m     \u001b[38;5;28;01mraise\u001b[39;00m \u001b[38;5;167;01mFileNotFoundError\u001b[39;00m(\u001b[38;5;124mf\u001b[39m\u001b[38;5;124m\"\u001b[39m\u001b[38;5;124mFile \u001b[39m\u001b[38;5;124m'\u001b[39m\u001b[38;5;132;01m{\u001b[39;00mf\u001b[38;5;132;01m}\u001b[39;00m\u001b[38;5;124m'\u001b[39m\u001b[38;5;124m does not exist\u001b[39m\u001b[38;5;124m\"\u001b[39m)\n\u001b[1;32m     15\u001b[0m \u001b[38;5;28;01mif\u001b[39;00m \u001b[38;5;129;01mnot\u001b[39;00m os\u001b[38;5;241m.\u001b[39maccess(f, os\u001b[38;5;241m.\u001b[39mR_OK):\n\u001b[1;32m     16\u001b[0m     \u001b[38;5;28;01mraise\u001b[39;00m \u001b[38;5;167;01mPermissionError\u001b[39;00m(\u001b[38;5;124mf\u001b[39m\u001b[38;5;124m\"\u001b[39m\u001b[38;5;124mFile \u001b[39m\u001b[38;5;124m'\u001b[39m\u001b[38;5;132;01m{\u001b[39;00mf\u001b[38;5;132;01m}\u001b[39;00m\u001b[38;5;124m'\u001b[39m\u001b[38;5;124m is not readable\u001b[39m\u001b[38;5;124m\"\u001b[39m)\n",
      "\u001b[0;31mFileNotFoundError\u001b[0m: File 'normal3d.stan' does not exist"
     ]
    }
   ],
   "source": [
    "bs_model = BSModel(stan_file = 'normal3d.stan',\n",
    "                   data_file = data_file)"
   ]
  },
  {
   "cell_type": "markdown",
   "id": "464f4165-17ef-42ac-a757-bcd3b2e11101",
   "metadata": {},
   "source": [
    "Once all that is set up, we can finally run an algorithm on a model.  Here, we'll run the Random Walk algorithm on the model named 'normal'."
   ]
  },
  {
   "cell_type": "code",
   "execution_count": null,
   "id": "4d394134-0d77-4c0a-8244-e7df049d13ac",
   "metadata": {},
   "outputs": [],
   "source": [
    "rw = RW(bs_model, cfg[\"stepsize\"], cfg[\"seed\"])\n",
    "thetas = rw.sample_constrained(cfg[\"iterations\"])"
   ]
  },
  {
   "cell_type": "markdown",
   "id": "d1ba8fd3-e91a-4c05-bafc-e5edb0dbb581",
   "metadata": {},
   "source": [
    "The output of these MCMC algorithms is essentially just a collection of points, which are intelligently sampled from the distribution we're trying to characterize.  These algorithms take time to warm up, so we exclude the \"warmup\" set and only consider the points sampled after the warmup set.  We generally don't know when the warmup set ends, so we just make a guess and hope for the best."
   ]
  },
  {
   "cell_type": "code",
   "execution_count": null,
   "id": "624b3071-3627-4ac6-8cb7-4e393bbac5a0",
   "metadata": {},
   "outputs": [],
   "source": [
    "thetas = thetas[cfg[\"warmup\"]:, :]\n",
    "m = thetas.mean()\n",
    "s = thetas.std()"
   ]
  },
  {
   "cell_type": "markdown",
   "id": "44522806-ee35-461d-a532-935db6121d8a",
   "metadata": {},
   "source": [
    "Most often, we calculate the means and standard deviation of these points, taken across each dimension if there are multiple dimensions, and compare the mean(s) and standard deviation(s) to the true values.  So we can only realistically evaluate these algorithms on models for which we already know the true values.  For the \"normal\" model here, the mean should be $0$ and the standard deviation should be $1$."
   ]
  },
  {
   "cell_type": "code",
   "execution_count": null,
   "id": "10210edf-84b0-45aa-ad7b-3c35e0f1890e",
   "metadata": {},
   "outputs": [
    {
     "name": "stdout",
     "output_type": "stream",
     "text": [
      "mean = 0.0117\n",
      "std = 0.9725\n"
     ]
    }
   ],
   "source": [
    "print(f\"mean = {np.round(m, cfg['digits'])}\")\n",
    "print(f\"std = {np.round(s, cfg['digits'])}\")"
   ]
  },
  {
   "cell_type": "markdown",
   "id": "bfe5a9ff-f30f-4694-a20d-1079f26db7ab",
   "metadata": {},
   "source": [
    "From this algorithm, these approximations are considered good enough.  The only real way to do better is to increase the number of iterations of the algorithm, or find a better algorithm which gets better estimates for the same number of iterations.  "
   ]
  }
 ],
 "metadata": {
  "kernelspec": {
   "display_name": "Python 3 (ipykernel)",
   "language": "python",
   "name": "python3"
  },
  "language_info": {
   "codemirror_mode": {
    "name": "ipython",
    "version": 3
   },
   "file_extension": ".py",
   "mimetype": "text/x-python",
   "name": "python",
   "nbconvert_exporter": "python",
   "pygments_lexer": "ipython3",
   "version": "3.12.7"
  }
 },
 "nbformat": 4,
 "nbformat_minor": 5
}
