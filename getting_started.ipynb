{
 "cells": [
  {
   "cell_type": "markdown",
   "id": "3c67ebcd-de6e-4574-a04e-d154a69f0f4c",
   "metadata": {},
   "source": [
    "# MCMC Experiments"
   ]
  },
  {
   "cell_type": "markdown",
   "id": "abd7ab41-02d1-45a3-b24d-21e5ae60d878",
   "metadata": {},
   "source": [
    "Let's look at what we need to get running, so that we can start to evaluate some MCMC models this semester."
   ]
  },
  {
   "cell_type": "code",
   "execution_count": 1,
   "id": "34692a13-ce12-45a5-aef1-453c291fb60c",
   "metadata": {},
   "outputs": [],
   "source": [
    "from bsmodel import BSModel\n",
    "from pathlib import Path\n",
    "from randomwalk import RW\n",
    "\n",
    "import bridgestan as bs\n",
    "import cmdstanpy as csp\n",
    "import matplotlib.pyplot as plt\n",
    "import numpy as np\n",
    "import tools as tls\n",
    "\n",
    "import json\n",
    "import pprint\n",
    "import yaml"
   ]
  },
  {
   "cell_type": "markdown",
   "id": "7f858881-8533-4e33-8bde-961398ab66ac",
   "metadata": {},
   "source": [
    "I like to put all the general config into a yaml file, and then read this in to configure the various models, parameters, and datasets necessary to evaluate an algorithm."
   ]
  },
  {
   "cell_type": "code",
   "execution_count": 2,
   "id": "fac81279-11e9-4d4b-b5a4-c468373387e1",
   "metadata": {},
   "outputs": [
    {
     "name": "stdout",
     "output_type": "stream",
     "text": [
      "{'print': True,\n",
      " 'digits': 4,\n",
      " 'iterations': 10000,\n",
      " 'warmup': 500,\n",
      " 'replications': 1,\n",
      " 'seed': None,\n",
      " 'stepsize': 0.99,\n",
      " 'bs_path': '~/bridgestan',\n",
      " 'model_path': 'stan',\n",
      " 'model_name': 'normal'}\n"
     ]
    }
   ],
   "source": [
    "with open(\"config.yaml\") as f:\n",
    "    cfg = yaml.safe_load(f)\n",
    "\n",
    "pprint.pp(cfg)"
   ]
  },
  {
   "cell_type": "markdown",
   "id": "9edb992c-e08a-465f-b2b9-f5ee85d968e0",
   "metadata": {},
   "source": [
    "Next, we set up the C++ code that some of these models depend on.  To get this set up on your machine, you'll need to follow the install instructions at [BridgeStan](https://roualdes.github.io/bridgestan/latest/getting-started.html) before running the code below.  Unfortunately, the install instructions for BridgeStan point you to install instructions for Stan, and this is a necessary step."
   ]
  },
  {
   "cell_type": "raw",
   "id": "135e001f-80c8-4115-916b-c9bbe9ff0385",
   "metadata": {},
   "source": [
    "bs.set_bridgestan_path(Path(cfg[\"bs_path\"]).expanduser())\n",
    "stan_file, data_file = tls.get_stan_files(cfg)\n",
    "\n",
    "bs_model = BSModel(stan_file = stan_file,\n",
    "                   data_file = data_file)"
   ]
  },
  {
   "cell_type": "markdown",
   "id": "464f4165-17ef-42ac-a757-bcd3b2e11101",
   "metadata": {},
   "source": [
    "Once all that is set up, we can finally run an algorithm on a model.  Here, we'll run the Random Walk algorithm on the model named 'normal'."
   ]
  },
  {
   "cell_type": "code",
   "execution_count": null,
   "id": "4d394134-0d77-4c0a-8244-e7df049d13ac",
   "metadata": {},
   "outputs": [],
   "source": [
    "rw = RW(bs_model, cfg[\"stepsize\"], cfg[\"seed\"])\n",
    "thetas = rw.sample_constrained(cfg[\"iterations\"])"
   ]
  },
  {
   "cell_type": "markdown",
   "id": "d1ba8fd3-e91a-4c05-bafc-e5edb0dbb581",
   "metadata": {},
   "source": [
    "The output of these MCMC algorithms is essentially just a collection of points, which are intelligently sampled from the distribution we're trying to characterize.  These algorithms take time to warm up, so we exclude the \"warmup\" set and only consider the points sampled after the warmup set.  We generally don't know when the warmup set ends, so we just make a guess and hope for the best."
   ]
  },
  {
   "cell_type": "code",
   "execution_count": null,
   "id": "624b3071-3627-4ac6-8cb7-4e393bbac5a0",
   "metadata": {},
   "outputs": [],
   "source": [
    "thetas = thetas[cfg[\"warmup\"]:, :]\n",
    "m = thetas.mean()\n",
    "s = thetas.std()"
   ]
  },
  {
   "cell_type": "markdown",
   "id": "44522806-ee35-461d-a532-935db6121d8a",
   "metadata": {},
   "source": [
    "Most often, we calculate the means and standard deviation of these points, taken across each dimension if there are multiple dimensions, and compare the mean(s) and standard deviation(s) to the true values.  So we can only realistically evaluate these algorithms on models for which we already know the true values.  For the \"normal\" model here, the mean should be $0$ and the standard deviation should be $1$."
   ]
  },
  {
   "cell_type": "code",
   "execution_count": null,
   "id": "10210edf-84b0-45aa-ad7b-3c35e0f1890e",
   "metadata": {},
   "outputs": [
    {
     "name": "stdout",
     "output_type": "stream",
     "text": [
      "mean = 0.0117\n",
      "std = 0.9725\n"
     ]
    }
   ],
   "source": [
    "print(f\"mean = {np.round(m, cfg['digits'])}\")\n",
    "print(f\"std = {np.round(s, cfg['digits'])}\")"
   ]
  },
  {
   "cell_type": "markdown",
   "id": "bfe5a9ff-f30f-4694-a20d-1079f26db7ab",
   "metadata": {},
   "source": [
    "From this algorithm, these approximations are considered good enough.  The only real way to do better is to increase the number of iterations of the algorithm, or find a better algorithm which gets better estimates for the same number of iterations.  "
   ]
  }
 ],
 "metadata": {
  "kernelspec": {
   "display_name": "Python 3 (ipykernel)",
   "language": "python",
   "name": "python3"
  },
  "language_info": {
   "codemirror_mode": {
    "name": "ipython",
    "version": 3
   },
   "file_extension": ".py",
   "mimetype": "text/x-python",
   "name": "python",
   "nbconvert_exporter": "python",
   "pygments_lexer": "ipython3",
   "version": "3.12.7"
  }
 },
 "nbformat": 4,
 "nbformat_minor": 5
}
