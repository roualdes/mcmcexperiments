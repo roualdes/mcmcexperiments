{
 "cells": [
  {
   "cell_type": "code",
   "execution_count": 5,
   "metadata": {},
   "outputs": [],
   "source": [
    "import numpy as np\n",
    "import scipy as sp\n",
    "import traceback\n",
    "import yaml\n",
    "import hashlib\n",
    "import os\n",
    "import pandas as pd\n",
    "import bridgestan as bs\n",
    "import time\n",
    "import matplotlib.pyplot as plt\n",
    "import pprint"
   ]
  },
  {
   "cell_type": "markdown",
   "metadata": {},
   "source": [
    "# --- Tools ---"
   ]
  },
  {
   "cell_type": "code",
   "execution_count": 6,
   "metadata": {},
   "outputs": [],
   "source": [
    "def logsubexp(a, b):\n",
    "    if a > b:\n",
    "        return a + np.log1p(-np.exp(b - a))\n",
    "    elif a < b:\n",
    "        return b + np.log1p(-np.exp(a - b))\n",
    "    else:\n",
    "        return np.inf\n",
    "\n",
    "def hash_string(s):\n",
    "    return hashlib.md5(s.encode('utf-8')).hexdigest()\n",
    "\n",
    "def stan_initializations(model, num_chains=4, num_warmup=1000, num_samples=1000):\n",
    "    stan_file = model.stan_file\n",
    "    data = model.data\n",
    "    model_name = hash_string(open(stan_file).read())\n",
    "    output_file = f'{model_name}.output.csv'\n",
    "    if not os.path.exists(output_file):\n",
    "        cmd = f'stanc {stan_file} --o={model_name}.stan'\n",
    "        os.system(cmd)\n",
    "        cmd = f'{model_name}.stan sample num_chains={num_chains} num_warmup={num_warmup} num_samples={num_samples} data file={data} output file={output_file}'\n",
    "        os.system(cmd)\n",
    "\n",
    "    df = pd.read_csv(output_file, comment='#')\n",
    "    stepsize = np.median(df['stepsize__'].values)\n",
    "    return stepsize"
   ]
  },
  {
   "cell_type": "markdown",
   "metadata": {},
   "source": [
    "# --- MCMC Base ---"
   ]
  },
  {
   "cell_type": "code",
   "execution_count": 7,
   "metadata": {},
   "outputs": [],
   "source": [
    "class MCMCBase:\n",
    "    def __init__(self, model, stepsize, seed=None):\n",
    "        self.model = model\n",
    "        self.stepsize = stepsize\n",
    "        self.rng = np.random.default_rng(seed)\n",
    "        self.D = self.model.dims()\n",
    "        self.sampler_name = \"MCMCBase\"\n",
    "\n",
    "    def draw(self):\n",
    "        raise NotImplementedError\n",
    "\n",
    "    def log_joint(self, theta, rho):\n",
    "        return self.model.log_density(theta) - 0.5 * np.sum(rho**2)\n",
    "\n",
    "    def leapfrog_step(self, theta, rho):\n",
    "        grad = self.model.log_density_gradient(theta)\n",
    "        rho_mid = rho + 0.5 * self.stepsize * grad\n",
    "        theta_new = theta + self.stepsize * rho_mid\n",
    "        grad_new = self.model.log_density_gradient(theta_new)\n",
    "        rho_new = rho_mid + 0.5 * self.stepsize * grad_new\n",
    "        return theta_new, rho_new\n",
    "\n",
    "    def leapfrog(self, theta, rho, steps):\n",
    "        for _ in range(steps):\n",
    "            theta, rho = self.leapfrog_step(theta, rho)\n",
    "        return theta, rho\n",
    "\n",
    "    def sample_constrained(self, iterations):\n",
    "        samples = []\n",
    "        for _ in range(iterations):\n",
    "            theta_unconstrained = self.draw()\n",
    "            theta_constrained = self.model.constrain_pars(theta_unconstrained)\n",
    "            samples.append(theta_constrained)\n",
    "        return np.array(samples)\n"
   ]
  },
  {
   "cell_type": "markdown",
   "metadata": {},
   "source": [
    "# --- HMC Base ---"
   ]
  },
  {
   "cell_type": "code",
   "execution_count": 8,
   "metadata": {},
   "outputs": [],
   "source": [
    "class HMCBase(MCMCBase):\n",
    "    def __init__(self, model, stepsize, seed=None, theta=None):\n",
    "        super().__init__(model, stepsize, seed)\n",
    "        if theta is None:\n",
    "            self.theta = self.rng.normal(size=self.D)\n",
    "        else:\n",
    "            self.theta = theta"
   ]
  },
  {
   "cell_type": "markdown",
   "metadata": {},
   "source": [
    "# --- BS Model ---"
   ]
  },
  {
   "cell_type": "code",
   "execution_count": 9,
   "metadata": {},
   "outputs": [],
   "source": [
    "class BSModel:\n",
    "    def __init__(self, stan_file, data):\n",
    "        self.stan_file = stan_file\n",
    "        self.data = data\n",
    "        self.model = bs.StanModel(stan_file=stan_file, data=data)\n",
    "\n",
    "    def log_density(self, theta):\n",
    "        return self.model.log_density(theta)\n",
    "\n",
    "    def log_density_gradient(self, theta):\n",
    "        return self.model.log_density_gradient(theta)\n",
    "\n",
    "    def dims(self):\n",
    "        return self.model.dims\n",
    "\n",
    "    def unconstrain_pars(self, pars):\n",
    "        return self.model.unconstrain_pars(pars)\n",
    "\n",
    "    def constrain_pars(self, pars):\n",
    "        return self.model.constrain_pars(pars)"
   ]
  },
  {
   "cell_type": "markdown",
   "metadata": {},
   "source": [
    "# --- SARSA HMC ---"
   ]
  },
  {
   "cell_type": "code",
   "execution_count": 10,
   "metadata": {},
   "outputs": [],
   "source": [
    "class SARSAHMC(HMCBase):\n",
    "    def __init__(self, model, stepsize, seed=None, theta=None, alpha=0.1, gamma=0.9, epsilon=0.1, num_actions=5):\n",
    "        super().__init__(model, stepsize, seed, theta)\n",
    "        self.sampler_name = \"SARSA-HMC\"\n",
    "        self.alpha = alpha\n",
    "        self.gamma = gamma\n",
    "        self.epsilon = epsilon\n",
    "        self.num_actions = num_actions\n",
    "        self.Q = np.zeros((1, num_actions))\n",
    "        self.action_space = np.linspace(0.5, 1.5, num_actions) * self.stepsize\n",
    "        self.steps = 0\n",
    "        self.prop_accepted = 0.0\n",
    "        self.draws = 0\n",
    "\n",
    "    def choose_action(self):\n",
    "        if self.rng.uniform() < self.epsilon:\n",
    "            return self.rng.choice(self.num_actions)\n",
    "        else:\n",
    "            return np.argmax(self.Q[0])\n",
    "\n",
    "    def draw(self):\n",
    "        self.draws += 1\n",
    "        try:\n",
    "            theta = self.theta\n",
    "            rho = self.rng.normal(size=self.D)\n",
    "            H = self.log_joint(theta, rho)\n",
    "\n",
    "            action = self.choose_action()\n",
    "            stepsize = self.action_space[action]\n",
    "            theta_star, rho_star = self.leapfrog(theta, rho, 1)\n",
    "            H_star = self.log_joint(theta_star, rho_star)\n",
    "\n",
    "            log_alpha = H_star - H\n",
    "            accepted = 0\n",
    "            if np.log(self.rng.uniform()) < np.minimum(0.0, log_alpha):\n",
    "                accepted = 1\n",
    "                self.theta = theta_star\n",
    "\n",
    "            self.prop_accepted += (accepted - self.prop_accepted) / self.draws\n",
    "\n",
    "            reward = accepted\n",
    "            next_action = self.choose_action()\n",
    "\n",
    "            self.Q[0, action] += self.alpha * (reward + self.gamma * self.Q[0, next_action] - self.Q[0, action])\n",
    "\n",
    "        except Exception as e:\n",
    "            traceback.print_exc()\n",
    "            pass\n",
    "        return self.theta"
   ]
  },
  {
   "cell_type": "markdown",
   "metadata": {},
   "source": [
    "# --- Random Walk ---"
   ]
  },
  {
   "cell_type": "code",
   "execution_count": 11,
   "metadata": {},
   "outputs": [],
   "source": [
    "class RW(MCMCBase):\n",
    "    def __init__(self, model, stepsize, seed=None):\n",
    "        super().__init__(model, stepsize, seed)\n",
    "        self.sampler_name = \"Random Walk\"\n",
    "\n",
    "    def draw(self):\n",
    "        theta = self.theta\n",
    "        theta_star = theta + self.rng.normal(scale=self.stepsize, size=self.D)\n",
    "        H = self.model.log_density(theta)\n",
    "        H_star = self.model.log_density(theta_star)\n",
    "        log_alpha = H_star - H\n",
    "        if np.log(self.rng.uniform()) < np.minimum(0.0, log_alpha):\n",
    "            self.theta = theta_star\n",
    "        return self.theta"
   ]
  },
  {
   "cell_type": "markdown",
   "metadata": {},
   "source": [
    "# --- Main ---"
   ]
  },
  {
   "cell_type": "code",
   "execution_count": 12,
   "metadata": {},
   "outputs": [
    {
     "ename": "TypeError",
     "evalue": "StanModel.__init__() got an unexpected keyword argument 'stan_file'",
     "output_type": "error",
     "traceback": [
      "\u001b[1;31m---------------------------------------------------------------------------\u001b[0m",
      "\u001b[1;31mTypeError\u001b[0m                                 Traceback (most recent call last)",
      "Cell \u001b[1;32mIn[12], line 5\u001b[0m\n\u001b[0;32m      2\u001b[0m stan_file \u001b[38;5;241m=\u001b[39m \u001b[38;5;124m'\u001b[39m\u001b[38;5;124mnormal3d.stan\u001b[39m\u001b[38;5;124m'\u001b[39m\n\u001b[0;32m      3\u001b[0m data \u001b[38;5;241m=\u001b[39m \u001b[38;5;124m'\u001b[39m\u001b[38;5;124mnormal3d.data.R\u001b[39m\u001b[38;5;124m'\u001b[39m\n\u001b[1;32m----> 5\u001b[0m model \u001b[38;5;241m=\u001b[39m \u001b[43mBSModel\u001b[49m\u001b[43m(\u001b[49m\u001b[43mstan_file\u001b[49m\u001b[43m,\u001b[49m\u001b[43m \u001b[49m\u001b[43mdata\u001b[49m\u001b[43m)\u001b[49m\n\u001b[0;32m      6\u001b[0m stepsize \u001b[38;5;241m=\u001b[39m stan_initializations(model)\n\u001b[0;32m      7\u001b[0m sampler \u001b[38;5;241m=\u001b[39m SARSAHMC(model, stepsize, seed\u001b[38;5;241m=\u001b[39m\u001b[38;5;241m42\u001b[39m)\n",
      "Cell \u001b[1;32mIn[9], line 5\u001b[0m, in \u001b[0;36mBSModel.__init__\u001b[1;34m(self, stan_file, data)\u001b[0m\n\u001b[0;32m      3\u001b[0m \u001b[38;5;28mself\u001b[39m\u001b[38;5;241m.\u001b[39mstan_file \u001b[38;5;241m=\u001b[39m stan_file\n\u001b[0;32m      4\u001b[0m \u001b[38;5;28mself\u001b[39m\u001b[38;5;241m.\u001b[39mdata \u001b[38;5;241m=\u001b[39m data\n\u001b[1;32m----> 5\u001b[0m \u001b[38;5;28mself\u001b[39m\u001b[38;5;241m.\u001b[39mmodel \u001b[38;5;241m=\u001b[39m \u001b[43mbs\u001b[49m\u001b[38;5;241;43m.\u001b[39;49m\u001b[43mStanModel\u001b[49m\u001b[43m(\u001b[49m\u001b[43mstan_file\u001b[49m\u001b[38;5;241;43m=\u001b[39;49m\u001b[43mstan_file\u001b[49m\u001b[43m,\u001b[49m\u001b[43m \u001b[49m\u001b[43mdata\u001b[49m\u001b[38;5;241;43m=\u001b[39;49m\u001b[43mdata\u001b[49m\u001b[43m)\u001b[49m\n",
      "\u001b[1;31mTypeError\u001b[0m: StanModel.__init__() got an unexpected keyword argument 'stan_file'"
     ]
    }
   ],
   "source": [
    "if __name__ == \"__main__\":\n",
    "    stan_file = 'normal3d.stan'\n",
    "    data = 'normal3d.data.R'\n",
    "\n",
    "    model = BSModel(stan_file, data)\n",
    "    stepsize = stan_initializations(model)\n",
    "    sampler = SARSAHMC(model, stepsize, seed=42)\n",
    "\n",
    "    num_samples = 1000\n",
    "    samples = []\n",
    "    for _ in range(num_samples):\n",
    "        samples.append(sampler.draw())\n",
    "\n",
    "    samples = np.array(samples)\n",
    "    print(\"Mean:\", np.mean(samples, axis=0))\n",
    "    print(\"Std:\", np.std(samples, axis=0))"
   ]
  }
 ],
 "metadata": {
  "kernelspec": {
   "display_name": "Python 3",
   "language": "python",
   "name": "python3"
  },
  "language_info": {
   "codemirror_mode": {
    "name": "ipython",
    "version": 3
   },
   "file_extension": ".py",
   "mimetype": "text/x-python",
   "name": "python",
   "nbconvert_exporter": "python",
   "pygments_lexer": "ipython3",
   "version": "3.12.5"
  }
 },
 "nbformat": 4,
 "nbformat_minor": 2
}
